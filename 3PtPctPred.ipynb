{
 "cells": [
  {
   "cell_type": "markdown",
   "id": "d1d171de",
   "metadata": {},
   "source": [
    "# 2024 NBA Future Analytics Stars Coding Exercise\n",
    "\n",
    "## Task\n",
    "\n",
    "Predict each player’s three-point percentage at the end of the 2022-23 season given their shooting\n",
    "statistics from October/November 2022.\n",
    "\n",
    "## Data\n",
    "\n",
    "- **Name** - player’s name\n",
    "- **three_pct_season** – the player’s three-point percentage over the course of the full season (not including shots from the backcourt)\n",
    "- **lwr_paint_pct_oct_nov** - the player's field goal% from shot attempts within 8 feet of the basket in october and november\n",
    "- **upr_paint_pct_oct_nov** - the player's field goal% from shot attempts between 8 to 16 feet of the basket in october and november\n",
    "- **mid_pct_oct_nov** - the player's field goal% from shot attempts greater than 16 feet from the basket that are not three point attempts in october and november\n",
    "- **three_non_cnr_pct_oct_nov** - the player's field goal% from non-corner shot attempts from three point range in october and november\n",
    "- **three_cnr_pct_oct_nov** - the player's field goal% from corner shot attempts from three-point range in october and november\n",
    "- **ft_pct_oct_nov** - the player's free throw% in october and november\n",
    "- **lwr_paint_shots_oct_nov** - the player's total shot attempts from shot attempts within 8 feet of the basket in october and november\n",
    "- **upr_paint_shots_oct_nov** - the player's total shot attempts from shot attempts between 8 to 16 feet from the basket in october and november\n",
    "- **mid_shots_oct_nov** - the player's total shot attempts from shot attempts greater than 16 feet from the basket that are not three-point attempts in october and november\n",
    "- **three_non_cnr_shots_oct_nov** - the player's total shot attempts from non-corner shot attempts from three point range in october and november\n",
    "- **three_cnr_shots_oct_nov** - the player's total shot attempts from corner shot attempts from three point range in october and november\n",
    "- **ft_shots_oct_nov** - the player's free throw attempts in october and november"
   ]
  },
  {
   "cell_type": "markdown",
   "id": "075cbfa0",
   "metadata": {},
   "source": [
    "## Introduction\n",
    "\n",
    "This notebook contains my analysis of the provided data, my thought process as I worked through the problem, and the way I ultimately landed on my preferred solution.\n",
    "\n",
    "This can more or less be read as a chronological summary of my exploration and analysis, with some cleaning to improve readability.\n",
    "\n",
    "**Works Cited**\n",
    "- This work was done using techniques I learned/practiced while working through Codecademy courses on data analysis, specifically the data inference path lessons on multiple linear regression: https://www.codecademy.com/enrolled/paths/data-science-inf\n",
    "- Additionally, the resource I referenced for validating/testing models was the FiveThirtyEight article detailing their attempt to check their model performance: https://projects.fivethirtyeight.com/checking-our-work/"
   ]
  },
  {
   "cell_type": "markdown",
   "id": "dc9abcef",
   "metadata": {},
   "source": [
    "## Load and Inspect Data"
   ]
  },
  {
   "cell_type": "code",
   "execution_count": 48,
   "id": "ce457fd6",
   "metadata": {},
   "outputs": [],
   "source": [
    "import pandas as pd\n",
    "import numpy as np\n",
    "import matplotlib.pyplot as plt\n",
    "import seaborn as sns\n",
    "import statsmodels.api as sm"
   ]
  },
  {
   "cell_type": "code",
   "execution_count": 20,
   "id": "44157d9f",
   "metadata": {},
   "outputs": [
    {
     "data": {
      "text/html": [
       "<div>\n",
       "<style scoped>\n",
       "    .dataframe tbody tr th:only-of-type {\n",
       "        vertical-align: middle;\n",
       "    }\n",
       "\n",
       "    .dataframe tbody tr th {\n",
       "        vertical-align: top;\n",
       "    }\n",
       "\n",
       "    .dataframe thead th {\n",
       "        text-align: right;\n",
       "    }\n",
       "</style>\n",
       "<table border=\"1\" class=\"dataframe\">\n",
       "  <thead>\n",
       "    <tr style=\"text-align: right;\">\n",
       "      <th></th>\n",
       "      <th>Name</th>\n",
       "      <th>three_pct_season</th>\n",
       "      <th>lwr_paint_pct_oct_nov</th>\n",
       "      <th>upr_paint_pct_oct_nov</th>\n",
       "      <th>mid_pct_oct_nov</th>\n",
       "      <th>three_non_cnr_pct_oct_nov</th>\n",
       "      <th>three_cnr_pct_oct_nov</th>\n",
       "      <th>ft_pct_oct_nov</th>\n",
       "      <th>lwr_paint_shots_oct_nov</th>\n",
       "      <th>upr_paint_shots_oct_nov</th>\n",
       "      <th>mid_shots_oct_nov</th>\n",
       "      <th>three_non_cnr_shots_oct_nov</th>\n",
       "      <th>three_cnr_shots_oct_nov</th>\n",
       "      <th>ft_shots_oct_nov</th>\n",
       "    </tr>\n",
       "  </thead>\n",
       "  <tbody>\n",
       "    <tr>\n",
       "      <th>0</th>\n",
       "      <td>Malcolm Brogdon</td>\n",
       "      <td>0.437</td>\n",
       "      <td>0.484</td>\n",
       "      <td>0.619</td>\n",
       "      <td>0.600</td>\n",
       "      <td>0.444</td>\n",
       "      <td>0.485</td>\n",
       "      <td>0.863</td>\n",
       "      <td>62</td>\n",
       "      <td>21</td>\n",
       "      <td>10</td>\n",
       "      <td>27</td>\n",
       "      <td>33</td>\n",
       "      <td>51</td>\n",
       "    </tr>\n",
       "    <tr>\n",
       "      <th>1</th>\n",
       "      <td>Tyrese Maxey</td>\n",
       "      <td>0.435</td>\n",
       "      <td>0.505</td>\n",
       "      <td>0.452</td>\n",
       "      <td>0.458</td>\n",
       "      <td>0.512</td>\n",
       "      <td>0.361</td>\n",
       "      <td>0.738</td>\n",
       "      <td>105</td>\n",
       "      <td>42</td>\n",
       "      <td>24</td>\n",
       "      <td>41</td>\n",
       "      <td>61</td>\n",
       "      <td>65</td>\n",
       "    </tr>\n",
       "    <tr>\n",
       "      <th>2</th>\n",
       "      <td>Stephen Curry</td>\n",
       "      <td>0.432</td>\n",
       "      <td>0.706</td>\n",
       "      <td>0.526</td>\n",
       "      <td>0.467</td>\n",
       "      <td>0.415</td>\n",
       "      <td>0.466</td>\n",
       "      <td>0.907</td>\n",
       "      <td>109</td>\n",
       "      <td>38</td>\n",
       "      <td>30</td>\n",
       "      <td>82</td>\n",
       "      <td>148</td>\n",
       "      <td>107</td>\n",
       "    </tr>\n",
       "    <tr>\n",
       "      <th>3</th>\n",
       "      <td>Kentavious Caldwell-Pope</td>\n",
       "      <td>0.422</td>\n",
       "      <td>0.484</td>\n",
       "      <td>0.250</td>\n",
       "      <td>0.448</td>\n",
       "      <td>0.512</td>\n",
       "      <td>0.476</td>\n",
       "      <td>0.767</td>\n",
       "      <td>31</td>\n",
       "      <td>16</td>\n",
       "      <td>29</td>\n",
       "      <td>43</td>\n",
       "      <td>42</td>\n",
       "      <td>30</td>\n",
       "    </tr>\n",
       "    <tr>\n",
       "      <th>4</th>\n",
       "      <td>Jevon Carter</td>\n",
       "      <td>0.421</td>\n",
       "      <td>0.483</td>\n",
       "      <td>0.375</td>\n",
       "      <td>0.500</td>\n",
       "      <td>0.321</td>\n",
       "      <td>0.480</td>\n",
       "      <td>0.846</td>\n",
       "      <td>29</td>\n",
       "      <td>16</td>\n",
       "      <td>32</td>\n",
       "      <td>28</td>\n",
       "      <td>50</td>\n",
       "      <td>13</td>\n",
       "    </tr>\n",
       "    <tr>\n",
       "      <th>5</th>\n",
       "      <td>Jalen Brunson</td>\n",
       "      <td>0.418</td>\n",
       "      <td>0.567</td>\n",
       "      <td>0.462</td>\n",
       "      <td>0.400</td>\n",
       "      <td>0.286</td>\n",
       "      <td>0.395</td>\n",
       "      <td>0.878</td>\n",
       "      <td>120</td>\n",
       "      <td>91</td>\n",
       "      <td>15</td>\n",
       "      <td>42</td>\n",
       "      <td>43</td>\n",
       "      <td>115</td>\n",
       "    </tr>\n",
       "    <tr>\n",
       "      <th>6</th>\n",
       "      <td>Michael Porter Jr.</td>\n",
       "      <td>0.416</td>\n",
       "      <td>0.617</td>\n",
       "      <td>0.478</td>\n",
       "      <td>0.273</td>\n",
       "      <td>0.481</td>\n",
       "      <td>0.365</td>\n",
       "      <td>0.800</td>\n",
       "      <td>47</td>\n",
       "      <td>23</td>\n",
       "      <td>22</td>\n",
       "      <td>52</td>\n",
       "      <td>52</td>\n",
       "      <td>30</td>\n",
       "    </tr>\n",
       "    <tr>\n",
       "      <th>7</th>\n",
       "      <td>Klay Thompson</td>\n",
       "      <td>0.412</td>\n",
       "      <td>0.485</td>\n",
       "      <td>0.395</td>\n",
       "      <td>0.355</td>\n",
       "      <td>0.327</td>\n",
       "      <td>0.421</td>\n",
       "      <td>0.808</td>\n",
       "      <td>33</td>\n",
       "      <td>38</td>\n",
       "      <td>31</td>\n",
       "      <td>49</td>\n",
       "      <td>121</td>\n",
       "      <td>26</td>\n",
       "    </tr>\n",
       "    <tr>\n",
       "      <th>8</th>\n",
       "      <td>Alec Burks</td>\n",
       "      <td>0.412</td>\n",
       "      <td>0.571</td>\n",
       "      <td>0.500</td>\n",
       "      <td>0.313</td>\n",
       "      <td>0.474</td>\n",
       "      <td>0.360</td>\n",
       "      <td>0.821</td>\n",
       "      <td>14</td>\n",
       "      <td>24</td>\n",
       "      <td>16</td>\n",
       "      <td>19</td>\n",
       "      <td>25</td>\n",
       "      <td>56</td>\n",
       "    </tr>\n",
       "    <tr>\n",
       "      <th>9</th>\n",
       "      <td>Darius Garland</td>\n",
       "      <td>0.410</td>\n",
       "      <td>0.438</td>\n",
       "      <td>0.519</td>\n",
       "      <td>0.375</td>\n",
       "      <td>0.415</td>\n",
       "      <td>0.415</td>\n",
       "      <td>0.855</td>\n",
       "      <td>73</td>\n",
       "      <td>52</td>\n",
       "      <td>32</td>\n",
       "      <td>41</td>\n",
       "      <td>65</td>\n",
       "      <td>83</td>\n",
       "    </tr>\n",
       "  </tbody>\n",
       "</table>\n",
       "</div>"
      ],
      "text/plain": [
       "                       Name  three_pct_season  lwr_paint_pct_oct_nov  \\\n",
       "0           Malcolm Brogdon             0.437                  0.484   \n",
       "1              Tyrese Maxey             0.435                  0.505   \n",
       "2             Stephen Curry             0.432                  0.706   \n",
       "3  Kentavious Caldwell-Pope             0.422                  0.484   \n",
       "4              Jevon Carter             0.421                  0.483   \n",
       "5             Jalen Brunson             0.418                  0.567   \n",
       "6        Michael Porter Jr.             0.416                  0.617   \n",
       "7             Klay Thompson             0.412                  0.485   \n",
       "8                Alec Burks             0.412                  0.571   \n",
       "9            Darius Garland             0.410                  0.438   \n",
       "\n",
       "   upr_paint_pct_oct_nov  mid_pct_oct_nov  three_non_cnr_pct_oct_nov  \\\n",
       "0                  0.619            0.600                      0.444   \n",
       "1                  0.452            0.458                      0.512   \n",
       "2                  0.526            0.467                      0.415   \n",
       "3                  0.250            0.448                      0.512   \n",
       "4                  0.375            0.500                      0.321   \n",
       "5                  0.462            0.400                      0.286   \n",
       "6                  0.478            0.273                      0.481   \n",
       "7                  0.395            0.355                      0.327   \n",
       "8                  0.500            0.313                      0.474   \n",
       "9                  0.519            0.375                      0.415   \n",
       "\n",
       "   three_cnr_pct_oct_nov  ft_pct_oct_nov  lwr_paint_shots_oct_nov  \\\n",
       "0                  0.485           0.863                       62   \n",
       "1                  0.361           0.738                      105   \n",
       "2                  0.466           0.907                      109   \n",
       "3                  0.476           0.767                       31   \n",
       "4                  0.480           0.846                       29   \n",
       "5                  0.395           0.878                      120   \n",
       "6                  0.365           0.800                       47   \n",
       "7                  0.421           0.808                       33   \n",
       "8                  0.360           0.821                       14   \n",
       "9                  0.415           0.855                       73   \n",
       "\n",
       "   upr_paint_shots_oct_nov  mid_shots_oct_nov  three_non_cnr_shots_oct_nov  \\\n",
       "0                       21                 10                           27   \n",
       "1                       42                 24                           41   \n",
       "2                       38                 30                           82   \n",
       "3                       16                 29                           43   \n",
       "4                       16                 32                           28   \n",
       "5                       91                 15                           42   \n",
       "6                       23                 22                           52   \n",
       "7                       38                 31                           49   \n",
       "8                       24                 16                           19   \n",
       "9                       52                 32                           41   \n",
       "\n",
       "   three_cnr_shots_oct_nov  ft_shots_oct_nov  \n",
       "0                       33                51  \n",
       "1                       61                65  \n",
       "2                      148               107  \n",
       "3                       42                30  \n",
       "4                       50                13  \n",
       "5                       43               115  \n",
       "6                       52                30  \n",
       "7                      121                26  \n",
       "8                       25                56  \n",
       "9                       65                83  "
      ]
     },
     "execution_count": 20,
     "metadata": {},
     "output_type": "execute_result"
    }
   ],
   "source": [
    "df = pd.read_csv('fas_2024.csv')\n",
    "df.head(10)"
   ]
  },
  {
   "cell_type": "code",
   "execution_count": 23,
   "id": "57b44e4a",
   "metadata": {},
   "outputs": [
    {
     "data": {
      "text/html": [
       "<div>\n",
       "<style scoped>\n",
       "    .dataframe tbody tr th:only-of-type {\n",
       "        vertical-align: middle;\n",
       "    }\n",
       "\n",
       "    .dataframe tbody tr th {\n",
       "        vertical-align: top;\n",
       "    }\n",
       "\n",
       "    .dataframe thead th {\n",
       "        text-align: right;\n",
       "    }\n",
       "</style>\n",
       "<table border=\"1\" class=\"dataframe\">\n",
       "  <thead>\n",
       "    <tr style=\"text-align: right;\">\n",
       "      <th></th>\n",
       "      <th>Name</th>\n",
       "      <th>three_pct_season</th>\n",
       "      <th>lwr_paint_pct_oct_nov</th>\n",
       "      <th>upr_paint_pct_oct_nov</th>\n",
       "      <th>mid_pct_oct_nov</th>\n",
       "      <th>three_non_cnr_pct_oct_nov</th>\n",
       "      <th>three_cnr_pct_oct_nov</th>\n",
       "      <th>ft_pct_oct_nov</th>\n",
       "      <th>lwr_paint_shots_oct_nov</th>\n",
       "      <th>upr_paint_shots_oct_nov</th>\n",
       "      <th>mid_shots_oct_nov</th>\n",
       "      <th>three_non_cnr_shots_oct_nov</th>\n",
       "      <th>three_cnr_shots_oct_nov</th>\n",
       "      <th>ft_shots_oct_nov</th>\n",
       "    </tr>\n",
       "  </thead>\n",
       "  <tbody>\n",
       "    <tr>\n",
       "      <th>98</th>\n",
       "      <td>Ja Morant</td>\n",
       "      <td>0.308</td>\n",
       "      <td>0.542</td>\n",
       "      <td>0.393</td>\n",
       "      <td>0.500</td>\n",
       "      <td>0.350</td>\n",
       "      <td>0.386</td>\n",
       "      <td>0.743</td>\n",
       "      <td>192</td>\n",
       "      <td>89</td>\n",
       "      <td>10</td>\n",
       "      <td>40</td>\n",
       "      <td>44</td>\n",
       "      <td>167</td>\n",
       "    </tr>\n",
       "    <tr>\n",
       "      <th>99</th>\n",
       "      <td>Paolo Banchero</td>\n",
       "      <td>0.299</td>\n",
       "      <td>0.605</td>\n",
       "      <td>0.375</td>\n",
       "      <td>0.359</td>\n",
       "      <td>0.304</td>\n",
       "      <td>0.250</td>\n",
       "      <td>0.732</td>\n",
       "      <td>119</td>\n",
       "      <td>40</td>\n",
       "      <td>39</td>\n",
       "      <td>23</td>\n",
       "      <td>32</td>\n",
       "      <td>127</td>\n",
       "    </tr>\n",
       "    <tr>\n",
       "      <th>100</th>\n",
       "      <td>John Wall</td>\n",
       "      <td>0.298</td>\n",
       "      <td>0.638</td>\n",
       "      <td>0.450</td>\n",
       "      <td>0.355</td>\n",
       "      <td>0.150</td>\n",
       "      <td>0.289</td>\n",
       "      <td>0.658</td>\n",
       "      <td>69</td>\n",
       "      <td>20</td>\n",
       "      <td>31</td>\n",
       "      <td>20</td>\n",
       "      <td>38</td>\n",
       "      <td>76</td>\n",
       "    </tr>\n",
       "    <tr>\n",
       "      <th>101</th>\n",
       "      <td>Jalen Smith</td>\n",
       "      <td>0.289</td>\n",
       "      <td>0.662</td>\n",
       "      <td>0.286</td>\n",
       "      <td>0.214</td>\n",
       "      <td>0.370</td>\n",
       "      <td>0.243</td>\n",
       "      <td>0.765</td>\n",
       "      <td>77</td>\n",
       "      <td>14</td>\n",
       "      <td>14</td>\n",
       "      <td>46</td>\n",
       "      <td>37</td>\n",
       "      <td>51</td>\n",
       "    </tr>\n",
       "    <tr>\n",
       "      <th>102</th>\n",
       "      <td>John Collins</td>\n",
       "      <td>0.285</td>\n",
       "      <td>0.702</td>\n",
       "      <td>0.469</td>\n",
       "      <td>0.400</td>\n",
       "      <td>0.200</td>\n",
       "      <td>0.184</td>\n",
       "      <td>0.845</td>\n",
       "      <td>94</td>\n",
       "      <td>32</td>\n",
       "      <td>10</td>\n",
       "      <td>30</td>\n",
       "      <td>38</td>\n",
       "      <td>58</td>\n",
       "    </tr>\n",
       "    <tr>\n",
       "      <th>103</th>\n",
       "      <td>Scottie Barnes</td>\n",
       "      <td>0.283</td>\n",
       "      <td>0.577</td>\n",
       "      <td>0.167</td>\n",
       "      <td>0.346</td>\n",
       "      <td>0.364</td>\n",
       "      <td>0.343</td>\n",
       "      <td>0.724</td>\n",
       "      <td>111</td>\n",
       "      <td>30</td>\n",
       "      <td>26</td>\n",
       "      <td>33</td>\n",
       "      <td>35</td>\n",
       "      <td>29</td>\n",
       "    </tr>\n",
       "    <tr>\n",
       "      <th>104</th>\n",
       "      <td>Killian Hayes</td>\n",
       "      <td>0.280</td>\n",
       "      <td>0.278</td>\n",
       "      <td>0.446</td>\n",
       "      <td>0.368</td>\n",
       "      <td>0.200</td>\n",
       "      <td>0.406</td>\n",
       "      <td>0.842</td>\n",
       "      <td>54</td>\n",
       "      <td>56</td>\n",
       "      <td>19</td>\n",
       "      <td>30</td>\n",
       "      <td>32</td>\n",
       "      <td>19</td>\n",
       "    </tr>\n",
       "    <tr>\n",
       "      <th>105</th>\n",
       "      <td>Giannis Antetokounmpo</td>\n",
       "      <td>0.275</td>\n",
       "      <td>0.664</td>\n",
       "      <td>0.268</td>\n",
       "      <td>0.419</td>\n",
       "      <td>0.241</td>\n",
       "      <td>0.222</td>\n",
       "      <td>0.608</td>\n",
       "      <td>238</td>\n",
       "      <td>41</td>\n",
       "      <td>31</td>\n",
       "      <td>29</td>\n",
       "      <td>27</td>\n",
       "      <td>212</td>\n",
       "    </tr>\n",
       "    <tr>\n",
       "      <th>106</th>\n",
       "      <td>Bol Bol</td>\n",
       "      <td>0.268</td>\n",
       "      <td>0.800</td>\n",
       "      <td>0.452</td>\n",
       "      <td>0.231</td>\n",
       "      <td>0.500</td>\n",
       "      <td>0.333</td>\n",
       "      <td>0.767</td>\n",
       "      <td>100</td>\n",
       "      <td>31</td>\n",
       "      <td>13</td>\n",
       "      <td>22</td>\n",
       "      <td>21</td>\n",
       "      <td>43</td>\n",
       "    </tr>\n",
       "    <tr>\n",
       "      <th>107</th>\n",
       "      <td>Dennis Smith Jr.</td>\n",
       "      <td>0.220</td>\n",
       "      <td>0.562</td>\n",
       "      <td>0.381</td>\n",
       "      <td>0.300</td>\n",
       "      <td>0.364</td>\n",
       "      <td>0.316</td>\n",
       "      <td>0.500</td>\n",
       "      <td>73</td>\n",
       "      <td>21</td>\n",
       "      <td>10</td>\n",
       "      <td>11</td>\n",
       "      <td>19</td>\n",
       "      <td>12</td>\n",
       "    </tr>\n",
       "  </tbody>\n",
       "</table>\n",
       "</div>"
      ],
      "text/plain": [
       "                      Name  three_pct_season  lwr_paint_pct_oct_nov  \\\n",
       "98               Ja Morant             0.308                  0.542   \n",
       "99          Paolo Banchero             0.299                  0.605   \n",
       "100              John Wall             0.298                  0.638   \n",
       "101            Jalen Smith             0.289                  0.662   \n",
       "102           John Collins             0.285                  0.702   \n",
       "103         Scottie Barnes             0.283                  0.577   \n",
       "104          Killian Hayes             0.280                  0.278   \n",
       "105  Giannis Antetokounmpo             0.275                  0.664   \n",
       "106                Bol Bol             0.268                  0.800   \n",
       "107       Dennis Smith Jr.             0.220                  0.562   \n",
       "\n",
       "     upr_paint_pct_oct_nov  mid_pct_oct_nov  three_non_cnr_pct_oct_nov  \\\n",
       "98                   0.393            0.500                      0.350   \n",
       "99                   0.375            0.359                      0.304   \n",
       "100                  0.450            0.355                      0.150   \n",
       "101                  0.286            0.214                      0.370   \n",
       "102                  0.469            0.400                      0.200   \n",
       "103                  0.167            0.346                      0.364   \n",
       "104                  0.446            0.368                      0.200   \n",
       "105                  0.268            0.419                      0.241   \n",
       "106                  0.452            0.231                      0.500   \n",
       "107                  0.381            0.300                      0.364   \n",
       "\n",
       "     three_cnr_pct_oct_nov  ft_pct_oct_nov  lwr_paint_shots_oct_nov  \\\n",
       "98                   0.386           0.743                      192   \n",
       "99                   0.250           0.732                      119   \n",
       "100                  0.289           0.658                       69   \n",
       "101                  0.243           0.765                       77   \n",
       "102                  0.184           0.845                       94   \n",
       "103                  0.343           0.724                      111   \n",
       "104                  0.406           0.842                       54   \n",
       "105                  0.222           0.608                      238   \n",
       "106                  0.333           0.767                      100   \n",
       "107                  0.316           0.500                       73   \n",
       "\n",
       "     upr_paint_shots_oct_nov  mid_shots_oct_nov  three_non_cnr_shots_oct_nov  \\\n",
       "98                        89                 10                           40   \n",
       "99                        40                 39                           23   \n",
       "100                       20                 31                           20   \n",
       "101                       14                 14                           46   \n",
       "102                       32                 10                           30   \n",
       "103                       30                 26                           33   \n",
       "104                       56                 19                           30   \n",
       "105                       41                 31                           29   \n",
       "106                       31                 13                           22   \n",
       "107                       21                 10                           11   \n",
       "\n",
       "     three_cnr_shots_oct_nov  ft_shots_oct_nov  \n",
       "98                        44               167  \n",
       "99                        32               127  \n",
       "100                       38                76  \n",
       "101                       37                51  \n",
       "102                       38                58  \n",
       "103                       35                29  \n",
       "104                       32                19  \n",
       "105                       27               212  \n",
       "106                       21                43  \n",
       "107                       19                12  "
      ]
     },
     "execution_count": 23,
     "metadata": {},
     "output_type": "execute_result"
    }
   ],
   "source": [
    "df.tail(10)"
   ]
  },
  {
   "cell_type": "markdown",
   "id": "ac060438",
   "metadata": {},
   "source": [
    "Data is seemingly sorted by decreasing season 3 point percentage. From inspection of the first 20 rows, I don't see any missing or obviouly erroneous data, but I will check this further."
   ]
  },
  {
   "cell_type": "code",
   "execution_count": 7,
   "id": "64eeee95",
   "metadata": {},
   "outputs": [
    {
     "data": {
      "text/html": [
       "<div>\n",
       "<style scoped>\n",
       "    .dataframe tbody tr th:only-of-type {\n",
       "        vertical-align: middle;\n",
       "    }\n",
       "\n",
       "    .dataframe tbody tr th {\n",
       "        vertical-align: top;\n",
       "    }\n",
       "\n",
       "    .dataframe thead th {\n",
       "        text-align: right;\n",
       "    }\n",
       "</style>\n",
       "<table border=\"1\" class=\"dataframe\">\n",
       "  <thead>\n",
       "    <tr style=\"text-align: right;\">\n",
       "      <th></th>\n",
       "      <th>Name</th>\n",
       "      <th>three_pct_season</th>\n",
       "      <th>lwr_paint_pct_oct_nov</th>\n",
       "      <th>upr_paint_pct_oct_nov</th>\n",
       "      <th>mid_pct_oct_nov</th>\n",
       "      <th>three_non_cnr_pct_oct_nov</th>\n",
       "      <th>three_cnr_pct_oct_nov</th>\n",
       "      <th>ft_pct_oct_nov</th>\n",
       "      <th>lwr_paint_shots_oct_nov</th>\n",
       "      <th>upr_paint_shots_oct_nov</th>\n",
       "      <th>mid_shots_oct_nov</th>\n",
       "      <th>three_non_cnr_shots_oct_nov</th>\n",
       "      <th>three_cnr_shots_oct_nov</th>\n",
       "      <th>ft_shots_oct_nov</th>\n",
       "    </tr>\n",
       "  </thead>\n",
       "  <tbody>\n",
       "    <tr>\n",
       "      <th>count</th>\n",
       "      <td>108</td>\n",
       "      <td>108.000000</td>\n",
       "      <td>108.000000</td>\n",
       "      <td>108.000000</td>\n",
       "      <td>108.000000</td>\n",
       "      <td>108.000000</td>\n",
       "      <td>108.000000</td>\n",
       "      <td>108.000000</td>\n",
       "      <td>108.000000</td>\n",
       "      <td>108.000000</td>\n",
       "      <td>108.000000</td>\n",
       "      <td>108.000000</td>\n",
       "      <td>108.000000</td>\n",
       "      <td>108.000000</td>\n",
       "    </tr>\n",
       "    <tr>\n",
       "      <th>unique</th>\n",
       "      <td>108</td>\n",
       "      <td>NaN</td>\n",
       "      <td>NaN</td>\n",
       "      <td>NaN</td>\n",
       "      <td>NaN</td>\n",
       "      <td>NaN</td>\n",
       "      <td>NaN</td>\n",
       "      <td>NaN</td>\n",
       "      <td>NaN</td>\n",
       "      <td>NaN</td>\n",
       "      <td>NaN</td>\n",
       "      <td>NaN</td>\n",
       "      <td>NaN</td>\n",
       "      <td>NaN</td>\n",
       "    </tr>\n",
       "    <tr>\n",
       "      <th>top</th>\n",
       "      <td>Malcolm Brogdon</td>\n",
       "      <td>NaN</td>\n",
       "      <td>NaN</td>\n",
       "      <td>NaN</td>\n",
       "      <td>NaN</td>\n",
       "      <td>NaN</td>\n",
       "      <td>NaN</td>\n",
       "      <td>NaN</td>\n",
       "      <td>NaN</td>\n",
       "      <td>NaN</td>\n",
       "      <td>NaN</td>\n",
       "      <td>NaN</td>\n",
       "      <td>NaN</td>\n",
       "      <td>NaN</td>\n",
       "    </tr>\n",
       "    <tr>\n",
       "      <th>freq</th>\n",
       "      <td>1</td>\n",
       "      <td>NaN</td>\n",
       "      <td>NaN</td>\n",
       "      <td>NaN</td>\n",
       "      <td>NaN</td>\n",
       "      <td>NaN</td>\n",
       "      <td>NaN</td>\n",
       "      <td>NaN</td>\n",
       "      <td>NaN</td>\n",
       "      <td>NaN</td>\n",
       "      <td>NaN</td>\n",
       "      <td>NaN</td>\n",
       "      <td>NaN</td>\n",
       "      <td>NaN</td>\n",
       "    </tr>\n",
       "    <tr>\n",
       "      <th>mean</th>\n",
       "      <td>NaN</td>\n",
       "      <td>0.361176</td>\n",
       "      <td>0.575398</td>\n",
       "      <td>0.435944</td>\n",
       "      <td>0.407519</td>\n",
       "      <td>0.366417</td>\n",
       "      <td>0.355046</td>\n",
       "      <td>0.801222</td>\n",
       "      <td>88.138889</td>\n",
       "      <td>40.425926</td>\n",
       "      <td>24.092593</td>\n",
       "      <td>39.435185</td>\n",
       "      <td>57.472222</td>\n",
       "      <td>69.425926</td>\n",
       "    </tr>\n",
       "    <tr>\n",
       "      <th>std</th>\n",
       "      <td>NaN</td>\n",
       "      <td>0.039623</td>\n",
       "      <td>0.083720</td>\n",
       "      <td>0.091394</td>\n",
       "      <td>0.121003</td>\n",
       "      <td>0.088564</td>\n",
       "      <td>0.068755</td>\n",
       "      <td>0.083965</td>\n",
       "      <td>42.961939</td>\n",
       "      <td>25.618409</td>\n",
       "      <td>13.055265</td>\n",
       "      <td>15.021028</td>\n",
       "      <td>28.042177</td>\n",
       "      <td>46.346965</td>\n",
       "    </tr>\n",
       "    <tr>\n",
       "      <th>min</th>\n",
       "      <td>NaN</td>\n",
       "      <td>0.220000</td>\n",
       "      <td>0.278000</td>\n",
       "      <td>0.167000</td>\n",
       "      <td>0.000000</td>\n",
       "      <td>0.150000</td>\n",
       "      <td>0.167000</td>\n",
       "      <td>0.500000</td>\n",
       "      <td>14.000000</td>\n",
       "      <td>10.000000</td>\n",
       "      <td>10.000000</td>\n",
       "      <td>11.000000</td>\n",
       "      <td>12.000000</td>\n",
       "      <td>7.000000</td>\n",
       "    </tr>\n",
       "    <tr>\n",
       "      <th>25%</th>\n",
       "      <td>NaN</td>\n",
       "      <td>0.337000</td>\n",
       "      <td>0.514000</td>\n",
       "      <td>0.388250</td>\n",
       "      <td>0.330000</td>\n",
       "      <td>0.307000</td>\n",
       "      <td>0.316000</td>\n",
       "      <td>0.741000</td>\n",
       "      <td>54.000000</td>\n",
       "      <td>23.000000</td>\n",
       "      <td>14.000000</td>\n",
       "      <td>28.000000</td>\n",
       "      <td>35.000000</td>\n",
       "      <td>34.000000</td>\n",
       "    </tr>\n",
       "    <tr>\n",
       "      <th>50%</th>\n",
       "      <td>NaN</td>\n",
       "      <td>0.366500</td>\n",
       "      <td>0.578500</td>\n",
       "      <td>0.444000</td>\n",
       "      <td>0.402500</td>\n",
       "      <td>0.364000</td>\n",
       "      <td>0.359000</td>\n",
       "      <td>0.811000</td>\n",
       "      <td>85.000000</td>\n",
       "      <td>34.000000</td>\n",
       "      <td>22.000000</td>\n",
       "      <td>40.500000</td>\n",
       "      <td>55.500000</td>\n",
       "      <td>58.000000</td>\n",
       "    </tr>\n",
       "    <tr>\n",
       "      <th>75%</th>\n",
       "      <td>NaN</td>\n",
       "      <td>0.387250</td>\n",
       "      <td>0.625750</td>\n",
       "      <td>0.488750</td>\n",
       "      <td>0.477250</td>\n",
       "      <td>0.426750</td>\n",
       "      <td>0.394250</td>\n",
       "      <td>0.868500</td>\n",
       "      <td>111.250000</td>\n",
       "      <td>50.000000</td>\n",
       "      <td>31.000000</td>\n",
       "      <td>49.000000</td>\n",
       "      <td>74.250000</td>\n",
       "      <td>96.000000</td>\n",
       "    </tr>\n",
       "    <tr>\n",
       "      <th>max</th>\n",
       "      <td>NaN</td>\n",
       "      <td>0.437000</td>\n",
       "      <td>0.800000</td>\n",
       "      <td>0.692000</td>\n",
       "      <td>0.900000</td>\n",
       "      <td>0.667000</td>\n",
       "      <td>0.500000</td>\n",
       "      <td>1.000000</td>\n",
       "      <td>238.000000</td>\n",
       "      <td>170.000000</td>\n",
       "      <td>72.000000</td>\n",
       "      <td>82.000000</td>\n",
       "      <td>159.000000</td>\n",
       "      <td>213.000000</td>\n",
       "    </tr>\n",
       "  </tbody>\n",
       "</table>\n",
       "</div>"
      ],
      "text/plain": [
       "                   Name  three_pct_season  lwr_paint_pct_oct_nov  \\\n",
       "count               108        108.000000             108.000000   \n",
       "unique              108               NaN                    NaN   \n",
       "top     Malcolm Brogdon               NaN                    NaN   \n",
       "freq                  1               NaN                    NaN   \n",
       "mean                NaN          0.361176               0.575398   \n",
       "std                 NaN          0.039623               0.083720   \n",
       "min                 NaN          0.220000               0.278000   \n",
       "25%                 NaN          0.337000               0.514000   \n",
       "50%                 NaN          0.366500               0.578500   \n",
       "75%                 NaN          0.387250               0.625750   \n",
       "max                 NaN          0.437000               0.800000   \n",
       "\n",
       "        upr_paint_pct_oct_nov  mid_pct_oct_nov  three_non_cnr_pct_oct_nov  \\\n",
       "count              108.000000       108.000000                 108.000000   \n",
       "unique                    NaN              NaN                        NaN   \n",
       "top                       NaN              NaN                        NaN   \n",
       "freq                      NaN              NaN                        NaN   \n",
       "mean                 0.435944         0.407519                   0.366417   \n",
       "std                  0.091394         0.121003                   0.088564   \n",
       "min                  0.167000         0.000000                   0.150000   \n",
       "25%                  0.388250         0.330000                   0.307000   \n",
       "50%                  0.444000         0.402500                   0.364000   \n",
       "75%                  0.488750         0.477250                   0.426750   \n",
       "max                  0.692000         0.900000                   0.667000   \n",
       "\n",
       "        three_cnr_pct_oct_nov  ft_pct_oct_nov  lwr_paint_shots_oct_nov  \\\n",
       "count              108.000000      108.000000               108.000000   \n",
       "unique                    NaN             NaN                      NaN   \n",
       "top                       NaN             NaN                      NaN   \n",
       "freq                      NaN             NaN                      NaN   \n",
       "mean                 0.355046        0.801222                88.138889   \n",
       "std                  0.068755        0.083965                42.961939   \n",
       "min                  0.167000        0.500000                14.000000   \n",
       "25%                  0.316000        0.741000                54.000000   \n",
       "50%                  0.359000        0.811000                85.000000   \n",
       "75%                  0.394250        0.868500               111.250000   \n",
       "max                  0.500000        1.000000               238.000000   \n",
       "\n",
       "        upr_paint_shots_oct_nov  mid_shots_oct_nov  \\\n",
       "count                108.000000         108.000000   \n",
       "unique                      NaN                NaN   \n",
       "top                         NaN                NaN   \n",
       "freq                        NaN                NaN   \n",
       "mean                  40.425926          24.092593   \n",
       "std                   25.618409          13.055265   \n",
       "min                   10.000000          10.000000   \n",
       "25%                   23.000000          14.000000   \n",
       "50%                   34.000000          22.000000   \n",
       "75%                   50.000000          31.000000   \n",
       "max                  170.000000          72.000000   \n",
       "\n",
       "        three_non_cnr_shots_oct_nov  three_cnr_shots_oct_nov  ft_shots_oct_nov  \n",
       "count                    108.000000               108.000000        108.000000  \n",
       "unique                          NaN                      NaN               NaN  \n",
       "top                             NaN                      NaN               NaN  \n",
       "freq                            NaN                      NaN               NaN  \n",
       "mean                      39.435185                57.472222         69.425926  \n",
       "std                       15.021028                28.042177         46.346965  \n",
       "min                       11.000000                12.000000          7.000000  \n",
       "25%                       28.000000                35.000000         34.000000  \n",
       "50%                       40.500000                55.500000         58.000000  \n",
       "75%                       49.000000                74.250000         96.000000  \n",
       "max                       82.000000               159.000000        213.000000  "
      ]
     },
     "execution_count": 7,
     "metadata": {},
     "output_type": "execute_result"
    }
   ],
   "source": [
    "df.describe(include='all')"
   ]
  },
  {
   "cell_type": "code",
   "execution_count": 8,
   "id": "feb5d6d2",
   "metadata": {},
   "outputs": [
    {
     "data": {
      "text/plain": [
       "Name                           0\n",
       "three_pct_season               0\n",
       "lwr_paint_pct_oct_nov          0\n",
       "upr_paint_pct_oct_nov          0\n",
       "mid_pct_oct_nov                0\n",
       "three_non_cnr_pct_oct_nov      0\n",
       "three_cnr_pct_oct_nov          0\n",
       "ft_pct_oct_nov                 0\n",
       "lwr_paint_shots_oct_nov        0\n",
       "upr_paint_shots_oct_nov        0\n",
       "mid_shots_oct_nov              0\n",
       "three_non_cnr_shots_oct_nov    0\n",
       "three_cnr_shots_oct_nov        0\n",
       "ft_shots_oct_nov               0\n",
       "dtype: int64"
      ]
     },
     "execution_count": 8,
     "metadata": {},
     "output_type": "execute_result"
    }
   ],
   "source": [
    "df.isna().sum()"
   ]
  },
  {
   "cell_type": "code",
   "execution_count": 10,
   "id": "b329b7d6",
   "metadata": {},
   "outputs": [
    {
     "data": {
      "text/plain": [
       "Name                            object\n",
       "three_pct_season               float64\n",
       "lwr_paint_pct_oct_nov          float64\n",
       "upr_paint_pct_oct_nov          float64\n",
       "mid_pct_oct_nov                float64\n",
       "three_non_cnr_pct_oct_nov      float64\n",
       "three_cnr_pct_oct_nov          float64\n",
       "ft_pct_oct_nov                 float64\n",
       "lwr_paint_shots_oct_nov          int64\n",
       "upr_paint_shots_oct_nov          int64\n",
       "mid_shots_oct_nov                int64\n",
       "three_non_cnr_shots_oct_nov      int64\n",
       "three_cnr_shots_oct_nov          int64\n",
       "ft_shots_oct_nov                 int64\n",
       "dtype: object"
      ]
     },
     "execution_count": 10,
     "metadata": {},
     "output_type": "execute_result"
    }
   ],
   "source": [
    "df.dtypes"
   ]
  },
  {
   "cell_type": "markdown",
   "id": "bc230f65",
   "metadata": {},
   "source": [
    "All the data is present, there are no missing values. Further, each column has the appropriate data type."
   ]
  },
  {
   "cell_type": "markdown",
   "id": "e4b426ed",
   "metadata": {},
   "source": [
    "## Explore the Data\n",
    "\n",
    "I will begin by creating some visualizations of the variables to get a feel for them before diving into the ultimate task."
   ]
  },
  {
   "cell_type": "code",
   "execution_count": 33,
   "id": "251676e3",
   "metadata": {},
   "outputs": [
    {
     "data": {
      "image/png": "[encoded data removed]",
      "text/plain": [
       "<Figure size 959.76x720 with 12 Axes>"
      ]
     },
     "metadata": {
      "needs_background": "light"
     },
     "output_type": "display_data"
    }
   ],
   "source": [
    "fig, axes = plt.subplots(nrows = 4, ncols=3, figsize=(13.33, 10))\n",
    "df.loc[:,'lwr_paint_pct_oct_nov': 'ft_shots_oct_nov'].hist(ax=axes)\n",
    "plt.show()"
   ]
  },
  {
   "cell_type": "code",
   "execution_count": 25,
   "id": "c2b5ce69",
   "metadata": {},
   "outputs": [
    {
     "data": {
      "text/plain": [
       "lwr_paint_pct_oct_nov           0.575398\n",
       "upr_paint_pct_oct_nov           0.435944\n",
       "mid_pct_oct_nov                 0.407519\n",
       "three_non_cnr_pct_oct_nov       0.366417\n",
       "three_cnr_pct_oct_nov           0.355046\n",
       "ft_pct_oct_nov                  0.801222\n",
       "lwr_paint_shots_oct_nov        88.138889\n",
       "upr_paint_shots_oct_nov        40.425926\n",
       "mid_shots_oct_nov              24.092593\n",
       "three_non_cnr_shots_oct_nov    39.435185\n",
       "three_cnr_shots_oct_nov        57.472222\n",
       "ft_shots_oct_nov               69.425926\n",
       "dtype: float64"
      ]
     },
     "execution_count": 25,
     "metadata": {},
     "output_type": "execute_result"
    }
   ],
   "source": [
    "df.loc[:,'lwr_paint_pct_oct_nov': 'ft_shots_oct_nov'].mean()"
   ]
  },
  {
   "cell_type": "code",
   "execution_count": 26,
   "id": "f61cf57c",
   "metadata": {},
   "outputs": [
    {
     "data": {
      "text/plain": [
       "lwr_paint_pct_oct_nov           0.083720\n",
       "upr_paint_pct_oct_nov           0.091394\n",
       "mid_pct_oct_nov                 0.121003\n",
       "three_non_cnr_pct_oct_nov       0.088564\n",
       "three_cnr_pct_oct_nov           0.068755\n",
       "ft_pct_oct_nov                  0.083965\n",
       "lwr_paint_shots_oct_nov        42.961939\n",
       "upr_paint_shots_oct_nov        25.618409\n",
       "mid_shots_oct_nov              13.055265\n",
       "three_non_cnr_shots_oct_nov    15.021028\n",
       "three_cnr_shots_oct_nov        28.042177\n",
       "ft_shots_oct_nov               46.346965\n",
       "dtype: float64"
      ]
     },
     "execution_count": 26,
     "metadata": {},
     "output_type": "execute_result"
    }
   ],
   "source": [
    "df.loc[:,'lwr_paint_pct_oct_nov': 'ft_shots_oct_nov'].std()"
   ]
  },
  {
   "cell_type": "markdown",
   "id": "efb1d658",
   "metadata": {},
   "source": [
    "Looking at the histograms and corresponding means/standard deviations, one feature that jumps out is that the shot distributions are skewed right. For each type of shot, most players in this sample have a handful of shots from that distance, but there is a long tail corresponding to a few players with lots of those shots. Three point specialists show up with lots of attempted threes, while players who mainly play under the basket have few threes but more shots in the paint."
   ]
  },
  {
   "cell_type": "code",
   "execution_count": 32,
   "id": "82ac5a2a",
   "metadata": {},
   "outputs": [
    {
     "data": {
      "image/png": "[encoded data removed]",
      "text/plain": [
       "<Figure size 432x288 with 1 Axes>"
      ]
     },
     "metadata": {
      "needs_background": "light"
     },
     "output_type": "display_data"
    }
   ],
   "source": [
    "df.loc[:,'lwr_paint_shots_oct_nov': 'ft_shots_oct_nov'].boxplot()\n",
    "plt.xticks(rotation=60)\n",
    "plt.show()"
   ]
  },
  {
   "cell_type": "code",
   "execution_count": 34,
   "id": "10e2b18f",
   "metadata": {},
   "outputs": [
    {
     "data": {
      "image/png": "[encoded data removed]",
      "text/plain": [
       "<Figure size 432x288 with 1 Axes>"
      ]
     },
     "metadata": {
      "needs_background": "light"
     },
     "output_type": "display_data"
    }
   ],
   "source": [
    "df.loc[:,'lwr_paint_pct_oct_nov':'ft_pct_oct_nov'].boxplot()\n",
    "plt.xticks(rotation=60)\n",
    "plt.show()"
   ]
  },
  {
   "cell_type": "markdown",
   "id": "e233934a",
   "metadata": {},
   "source": [
    "The above boxplots provide a similar view of the data, with the quartiles and outliers more clearly labeled. The length of the upper \"whisker\" and the number of outliers indicate the skewed right shape also seen in the histograms. This view also allows a direct visual comparison of the central value and spread of the variables on the same axes.\n",
    "\n",
    "Now, I want to start looking at multidimensional dependencies, eventually building toward a model to forecast season three point percentage. First, I'll start small by looking at the correlations between variables."
   ]
  },
  {
   "cell_type": "markdown",
   "id": "0224aafa",
   "metadata": {},
   "source": [
    "## Predicting three point percentage"
   ]
  },
  {
   "cell_type": "code",
   "execution_count": 47,
   "id": "e89e9d0c",
   "metadata": {},
   "outputs": [
    {
     "data": {
      "image/png": "[encoded data removed]",
      "text/plain": [
       "<Figure size 921.6x691.2 with 2 Axes>"
      ]
     },
     "metadata": {
      "needs_background": "light"
     },
     "output_type": "display_data"
    }
   ],
   "source": [
    "corrs = df.corr()\n",
    "fig, ax = plt.subplots(figsize=(12.8,9.6))\n",
    "sns.heatmap(corrs, xticklabels=corrs.columns, \n",
    "            yticklabels=corrs.columns, annot=True, \n",
    "            vmin=-1, center=0, vmax=1, cmap='PuOr',\n",
    "            axes=ax)\n",
    "plt.show()"
   ]
  },
  {
   "cell_type": "markdown",
   "id": "7c602de9",
   "metadata": {},
   "source": [
    "Focusing on season three point percentage (first row/column), we can see moderate positive correlation with shooting percentage for all shot types except lower paint shots. There is also small positive correlation with the number of three point shots, while there is a negative correlation with free throws and lower paint shots. Free throws and lower paint shots are highly correlated, which makes sense - lots of fouls leading to free throws occur under the basket.\n",
    "\n",
    "Outside of season three point percentage, there are some other correlations visible between the data variables. In addition to the lower paint shots/free throws coorrelation, there is also positive correlation between free throws and all shot types (more shots = more foul opportunities), but 2 pointers have larger correlationn thatn threes. There is also correlation between number of threes from corner and not from corner (makes sense, if you take lots of threes from corner you're likely also a player who takes threes elsewhere), and correlation between upper paint shots and mid distance two pointers, and a slightly smaller correlation between lower paint shots and upper paint shots.\n",
    "\n",
    "Broadly, these correlations make sense. Players typically focus their play close to the basket, at mid-range, or beyond the arc. Where a player has most of his shots is also where that player has higher field goal percentage. Big men who play near the basket take more shots in the paint and are fouled more often. Nearby regions are correlated, for example players with more shots in the lower paint also have more shots in the upper paint. This all makes sense.\n",
    "\n",
    "Now, to turn this conceptual understanding into a forecast for three point percentage."
   ]
  },
  {
   "cell_type": "markdown",
   "id": "1b7268c9",
   "metadata": {},
   "source": [
    "My forecast will be a multiple linear regression using the data to make a prediction for end of season three point percentage.\n",
    "\n",
    "For the sake of comparing multiple models, I will run several predictions with varying number of independent variables included. After running the models, I can use the results to identify the best model to use."
   ]
  },
  {
   "cell_type": "code",
   "execution_count": 105,
   "id": "8dd8d0cf",
   "metadata": {},
   "outputs": [
    {
     "data": {
      "text/html": [
       "<table class=\"simpletable\">\n",
       "<caption>OLS Regression Results</caption>\n",
       "<tr>\n",
       "  <th>Dep. Variable:</th>    <td>three_pct_season</td> <th>  R-squared:         </th> <td>   0.525</td>\n",
       "</tr>\n",
       "<tr>\n",
       "  <th>Model:</th>                   <td>OLS</td>       <th>  Adj. R-squared:    </th> <td>   0.465</td>\n",
       "</tr>\n",
       "<tr>\n",
       "  <th>Method:</th>             <td>Least Squares</td>  <th>  F-statistic:       </th> <td>   8.738</td>\n",
       "</tr>\n",
       "<tr>\n",
       "  <th>Date:</th>             <td>Mon, 04 Dec 2023</td> <th>  Prob (F-statistic):</th> <td>5.44e-11</td>\n",
       "</tr>\n",
       "<tr>\n",
       "  <th>Time:</th>                 <td>13:11:25</td>     <th>  Log-Likelihood:    </th> <td>  236.08</td>\n",
       "</tr>\n",
       "<tr>\n",
       "  <th>No. Observations:</th>      <td>   108</td>      <th>  AIC:               </th> <td>  -446.2</td>\n",
       "</tr>\n",
       "<tr>\n",
       "  <th>Df Residuals:</th>          <td>    95</td>      <th>  BIC:               </th> <td>  -411.3</td>\n",
       "</tr>\n",
       "<tr>\n",
       "  <th>Df Model:</th>              <td>    12</td>      <th>                     </th>     <td> </td>   \n",
       "</tr>\n",
       "<tr>\n",
       "  <th>Covariance Type:</th>      <td>nonrobust</td>    <th>                     </th>     <td> </td>   \n",
       "</tr>\n",
       "</table>\n",
       "<table class=\"simpletable\">\n",
       "<tr>\n",
       "               <td></td>                  <th>coef</th>     <th>std err</th>      <th>t</th>      <th>P>|t|</th>  <th>[0.025</th>    <th>0.975]</th>  \n",
       "</tr>\n",
       "<tr>\n",
       "  <th>Intercept</th>                   <td>    0.0820</td> <td>    0.042</td> <td>    1.952</td> <td> 0.054</td> <td>   -0.001</td> <td>    0.165</td>\n",
       "</tr>\n",
       "<tr>\n",
       "  <th>lwr_paint_pct_oct_nov</th>       <td>    0.0107</td> <td>    0.036</td> <td>    0.300</td> <td> 0.765</td> <td>   -0.060</td> <td>    0.082</td>\n",
       "</tr>\n",
       "<tr>\n",
       "  <th>upr_paint_pct_oct_nov</th>       <td>    0.0684</td> <td>    0.036</td> <td>    1.912</td> <td> 0.059</td> <td>   -0.003</td> <td>    0.139</td>\n",
       "</tr>\n",
       "<tr>\n",
       "  <th>mid_pct_oct_nov</th>             <td>    0.0518</td> <td>    0.024</td> <td>    2.126</td> <td> 0.036</td> <td>    0.003</td> <td>    0.100</td>\n",
       "</tr>\n",
       "<tr>\n",
       "  <th>three_non_cnr_pct_oct_nov</th>   <td>    0.1326</td> <td>    0.034</td> <td>    3.948</td> <td> 0.000</td> <td>    0.066</td> <td>    0.199</td>\n",
       "</tr>\n",
       "<tr>\n",
       "  <th>three_cnr_pct_oct_nov</th>       <td>    0.2546</td> <td>    0.044</td> <td>    5.734</td> <td> 0.000</td> <td>    0.166</td> <td>    0.343</td>\n",
       "</tr>\n",
       "<tr>\n",
       "  <th>ft_pct_oct_nov</th>              <td>    0.1047</td> <td>    0.037</td> <td>    2.815</td> <td> 0.006</td> <td>    0.031</td> <td>    0.179</td>\n",
       "</tr>\n",
       "<tr>\n",
       "  <th>lwr_paint_shots_oct_nov</th>     <td>   -0.0002</td> <td>    0.000</td> <td>   -1.487</td> <td> 0.140</td> <td>   -0.000</td> <td> 5.56e-05</td>\n",
       "</tr>\n",
       "<tr>\n",
       "  <th>upr_paint_shots_oct_nov</th>     <td>-8.088e-05</td> <td>    0.000</td> <td>   -0.494</td> <td> 0.622</td> <td>   -0.000</td> <td>    0.000</td>\n",
       "</tr>\n",
       "<tr>\n",
       "  <th>mid_shots_oct_nov</th>           <td>   -0.0002</td> <td>    0.000</td> <td>   -0.676</td> <td> 0.501</td> <td>   -0.001</td> <td>    0.000</td>\n",
       "</tr>\n",
       "<tr>\n",
       "  <th>three_non_cnr_shots_oct_nov</th> <td>    0.0003</td> <td>    0.000</td> <td>    1.091</td> <td> 0.278</td> <td>   -0.000</td> <td>    0.001</td>\n",
       "</tr>\n",
       "<tr>\n",
       "  <th>three_cnr_shots_oct_nov</th>     <td> 9.308e-05</td> <td>    0.000</td> <td>    0.638</td> <td> 0.525</td> <td>   -0.000</td> <td>    0.000</td>\n",
       "</tr>\n",
       "<tr>\n",
       "  <th>ft_shots_oct_nov</th>            <td> 7.042e-05</td> <td>    0.000</td> <td>    0.646</td> <td> 0.520</td> <td>   -0.000</td> <td>    0.000</td>\n",
       "</tr>\n",
       "</table>\n",
       "<table class=\"simpletable\">\n",
       "<tr>\n",
       "  <th>Omnibus:</th>       <td> 6.911</td> <th>  Durbin-Watson:     </th> <td>   1.132</td>\n",
       "</tr>\n",
       "<tr>\n",
       "  <th>Prob(Omnibus):</th> <td> 0.032</td> <th>  Jarque-Bera (JB):  </th> <td>   6.428</td>\n",
       "</tr>\n",
       "<tr>\n",
       "  <th>Skew:</th>          <td>-0.522</td> <th>  Prob(JB):          </th> <td>  0.0402</td>\n",
       "</tr>\n",
       "<tr>\n",
       "  <th>Kurtosis:</th>      <td> 3.583</td> <th>  Cond. No.          </th> <td>3.10e+03</td>\n",
       "</tr>\n",
       "</table><br/><br/>Notes:<br/>[1] Standard Errors assume that the covariance matrix of the errors is correctly specified.<br/>[2] The condition number is large, 3.1e+03. This might indicate that there are<br/>strong multicollinearity or other numerical problems."
      ],
      "text/plain": [
       "<class 'statsmodels.iolib.summary.Summary'>\n",
       "\"\"\"\n",
       "                            OLS Regression Results                            \n",
       "==============================================================================\n",
       "Dep. Variable:       three_pct_season   R-squared:                       0.525\n",
       "Model:                            OLS   Adj. R-squared:                  0.465\n",
       "Method:                 Least Squares   F-statistic:                     8.738\n",
       "Date:                Mon, 04 Dec 2023   Prob (F-statistic):           5.44e-11\n",
       "Time:                        13:11:25   Log-Likelihood:                 236.08\n",
       "No. Observations:                 108   AIC:                            -446.2\n",
       "Df Residuals:                      95   BIC:                            -411.3\n",
       "Df Model:                          12                                         \n",
       "Covariance Type:            nonrobust                                         \n",
       "===============================================================================================\n",
       "                                  coef    std err          t      P>|t|      [0.025      0.975]\n",
       "-----------------------------------------------------------------------------------------------\n",
       "Intercept                       0.0820      0.042      1.952      0.054      -0.001       0.165\n",
       "lwr_paint_pct_oct_nov           0.0107      0.036      0.300      0.765      -0.060       0.082\n",
       "upr_paint_pct_oct_nov           0.0684      0.036      1.912      0.059      -0.003       0.139\n",
       "mid_pct_oct_nov                 0.0518      0.024      2.126      0.036       0.003       0.100\n",
       "three_non_cnr_pct_oct_nov       0.1326      0.034      3.948      0.000       0.066       0.199\n",
       "three_cnr_pct_oct_nov           0.2546      0.044      5.734      0.000       0.166       0.343\n",
       "ft_pct_oct_nov                  0.1047      0.037      2.815      0.006       0.031       0.179\n",
       "lwr_paint_shots_oct_nov        -0.0002      0.000     -1.487      0.140      -0.000    5.56e-05\n",
       "upr_paint_shots_oct_nov     -8.088e-05      0.000     -0.494      0.622      -0.000       0.000\n",
       "mid_shots_oct_nov              -0.0002      0.000     -0.676      0.501      -0.001       0.000\n",
       "three_non_cnr_shots_oct_nov     0.0003      0.000      1.091      0.278      -0.000       0.001\n",
       "three_cnr_shots_oct_nov      9.308e-05      0.000      0.638      0.525      -0.000       0.000\n",
       "ft_shots_oct_nov             7.042e-05      0.000      0.646      0.520      -0.000       0.000\n",
       "==============================================================================\n",
       "Omnibus:                        6.911   Durbin-Watson:                   1.132\n",
       "Prob(Omnibus):                  0.032   Jarque-Bera (JB):                6.428\n",
       "Skew:                          -0.522   Prob(JB):                       0.0402\n",
       "Kurtosis:                       3.583   Cond. No.                     3.10e+03\n",
       "==============================================================================\n",
       "\n",
       "Notes:\n",
       "[1] Standard Errors assume that the covariance matrix of the errors is correctly specified.\n",
       "[2] The condition number is large, 3.1e+03. This might indicate that there are\n",
       "strong multicollinearity or other numerical problems.\n",
       "\"\"\""
      ]
     },
     "execution_count": 105,
     "metadata": {},
     "output_type": "execute_result"
    }
   ],
   "source": [
    "## Model 1: Use every variable as an input\n",
    "model1 = sm.OLS.from_formula('three_pct_season ~ lwr_paint_pct_oct_nov + upr_paint_pct_oct_nov + \\\n",
    "                    mid_pct_oct_nov + three_non_cnr_pct_oct_nov + three_cnr_pct_oct_nov + \\\n",
    "                    ft_pct_oct_nov + lwr_paint_shots_oct_nov + upr_paint_shots_oct_nov + mid_shots_oct_nov + \\\n",
    "                    three_non_cnr_shots_oct_nov + three_cnr_shots_oct_nov + ft_shots_oct_nov',\n",
    "                    data = df).fit()\n",
    "model1.summary()"
   ]
  },
  {
   "cell_type": "code",
   "execution_count": 106,
   "id": "2b12b5c4",
   "metadata": {},
   "outputs": [
    {
     "data": {
      "text/html": [
       "<table class=\"simpletable\">\n",
       "<caption>OLS Regression Results</caption>\n",
       "<tr>\n",
       "  <th>Dep. Variable:</th>    <td>three_pct_season</td> <th>  R-squared:         </th> <td>   0.494</td>\n",
       "</tr>\n",
       "<tr>\n",
       "  <th>Model:</th>                   <td>OLS</td>       <th>  Adj. R-squared:    </th> <td>   0.458</td>\n",
       "</tr>\n",
       "<tr>\n",
       "  <th>Method:</th>             <td>Least Squares</td>  <th>  F-statistic:       </th> <td>   13.93</td>\n",
       "</tr>\n",
       "<tr>\n",
       "  <th>Date:</th>             <td>Mon, 04 Dec 2023</td> <th>  Prob (F-statistic):</th> <td>1.72e-12</td>\n",
       "</tr>\n",
       "<tr>\n",
       "  <th>Time:</th>                 <td>13:11:27</td>     <th>  Log-Likelihood:    </th> <td>  232.68</td>\n",
       "</tr>\n",
       "<tr>\n",
       "  <th>No. Observations:</th>      <td>   108</td>      <th>  AIC:               </th> <td>  -449.4</td>\n",
       "</tr>\n",
       "<tr>\n",
       "  <th>Df Residuals:</th>          <td>   100</td>      <th>  BIC:               </th> <td>  -427.9</td>\n",
       "</tr>\n",
       "<tr>\n",
       "  <th>Df Model:</th>              <td>     7</td>      <th>                     </th>     <td> </td>   \n",
       "</tr>\n",
       "<tr>\n",
       "  <th>Covariance Type:</th>      <td>nonrobust</td>    <th>                     </th>     <td> </td>   \n",
       "</tr>\n",
       "</table>\n",
       "<table class=\"simpletable\">\n",
       "<tr>\n",
       "               <td></td>                  <th>coef</th>     <th>std err</th>      <th>t</th>      <th>P>|t|</th>  <th>[0.025</th>    <th>0.975]</th>  \n",
       "</tr>\n",
       "<tr>\n",
       "  <th>Intercept</th>                   <td>    0.1016</td> <td>    0.036</td> <td>    2.859</td> <td> 0.005</td> <td>    0.031</td> <td>    0.172</td>\n",
       "</tr>\n",
       "<tr>\n",
       "  <th>mid_pct_oct_nov</th>             <td>    0.0465</td> <td>    0.024</td> <td>    1.910</td> <td> 0.059</td> <td>   -0.002</td> <td>    0.095</td>\n",
       "</tr>\n",
       "<tr>\n",
       "  <th>three_non_cnr_pct_oct_nov</th>   <td>    0.1339</td> <td>    0.034</td> <td>    3.980</td> <td> 0.000</td> <td>    0.067</td> <td>    0.201</td>\n",
       "</tr>\n",
       "<tr>\n",
       "  <th>three_cnr_pct_oct_nov</th>       <td>    0.2600</td> <td>    0.044</td> <td>    5.940</td> <td> 0.000</td> <td>    0.173</td> <td>    0.347</td>\n",
       "</tr>\n",
       "<tr>\n",
       "  <th>ft_pct_oct_nov</th>              <td>    0.1187</td> <td>    0.035</td> <td>    3.351</td> <td> 0.001</td> <td>    0.048</td> <td>    0.189</td>\n",
       "</tr>\n",
       "<tr>\n",
       "  <th>lwr_paint_shots_oct_nov</th>     <td>   -0.0001</td> <td> 7.37e-05</td> <td>   -1.757</td> <td> 0.082</td> <td>   -0.000</td> <td> 1.67e-05</td>\n",
       "</tr>\n",
       "<tr>\n",
       "  <th>three_non_cnr_shots_oct_nov</th> <td>    0.0003</td> <td>    0.000</td> <td>    1.038</td> <td> 0.302</td> <td>   -0.000</td> <td>    0.001</td>\n",
       "</tr>\n",
       "<tr>\n",
       "  <th>three_cnr_shots_oct_nov</th>     <td> 7.762e-05</td> <td>    0.000</td> <td>    0.553</td> <td> 0.582</td> <td>   -0.000</td> <td>    0.000</td>\n",
       "</tr>\n",
       "</table>\n",
       "<table class=\"simpletable\">\n",
       "<tr>\n",
       "  <th>Omnibus:</th>       <td> 8.168</td> <th>  Durbin-Watson:     </th> <td>   1.024</td>\n",
       "</tr>\n",
       "<tr>\n",
       "  <th>Prob(Omnibus):</th> <td> 0.017</td> <th>  Jarque-Bera (JB):  </th> <td>   7.852</td>\n",
       "</tr>\n",
       "<tr>\n",
       "  <th>Skew:</th>          <td>-0.631</td> <th>  Prob(JB):          </th> <td>  0.0197</td>\n",
       "</tr>\n",
       "<tr>\n",
       "  <th>Kurtosis:</th>      <td> 3.392</td> <th>  Cond. No.          </th> <td>2.24e+03</td>\n",
       "</tr>\n",
       "</table><br/><br/>Notes:<br/>[1] Standard Errors assume that the covariance matrix of the errors is correctly specified.<br/>[2] The condition number is large, 2.24e+03. This might indicate that there are<br/>strong multicollinearity or other numerical problems."
      ],
      "text/plain": [
       "<class 'statsmodels.iolib.summary.Summary'>\n",
       "\"\"\"\n",
       "                            OLS Regression Results                            \n",
       "==============================================================================\n",
       "Dep. Variable:       three_pct_season   R-squared:                       0.494\n",
       "Model:                            OLS   Adj. R-squared:                  0.458\n",
       "Method:                 Least Squares   F-statistic:                     13.93\n",
       "Date:                Mon, 04 Dec 2023   Prob (F-statistic):           1.72e-12\n",
       "Time:                        13:11:27   Log-Likelihood:                 232.68\n",
       "No. Observations:                 108   AIC:                            -449.4\n",
       "Df Residuals:                     100   BIC:                            -427.9\n",
       "Df Model:                           7                                         \n",
       "Covariance Type:            nonrobust                                         \n",
       "===============================================================================================\n",
       "                                  coef    std err          t      P>|t|      [0.025      0.975]\n",
       "-----------------------------------------------------------------------------------------------\n",
       "Intercept                       0.1016      0.036      2.859      0.005       0.031       0.172\n",
       "mid_pct_oct_nov                 0.0465      0.024      1.910      0.059      -0.002       0.095\n",
       "three_non_cnr_pct_oct_nov       0.1339      0.034      3.980      0.000       0.067       0.201\n",
       "three_cnr_pct_oct_nov           0.2600      0.044      5.940      0.000       0.173       0.347\n",
       "ft_pct_oct_nov                  0.1187      0.035      3.351      0.001       0.048       0.189\n",
       "lwr_paint_shots_oct_nov        -0.0001   7.37e-05     -1.757      0.082      -0.000    1.67e-05\n",
       "three_non_cnr_shots_oct_nov     0.0003      0.000      1.038      0.302      -0.000       0.001\n",
       "three_cnr_shots_oct_nov      7.762e-05      0.000      0.553      0.582      -0.000       0.000\n",
       "==============================================================================\n",
       "Omnibus:                        8.168   Durbin-Watson:                   1.024\n",
       "Prob(Omnibus):                  0.017   Jarque-Bera (JB):                7.852\n",
       "Skew:                          -0.631   Prob(JB):                       0.0197\n",
       "Kurtosis:                       3.392   Cond. No.                     2.24e+03\n",
       "==============================================================================\n",
       "\n",
       "Notes:\n",
       "[1] Standard Errors assume that the covariance matrix of the errors is correctly specified.\n",
       "[2] The condition number is large, 2.24e+03. This might indicate that there are\n",
       "strong multicollinearity or other numerical problems.\n",
       "\"\"\""
      ]
     },
     "execution_count": 106,
     "metadata": {},
     "output_type": "execute_result"
    }
   ],
   "source": [
    "## Model 2: Remove a handful of variables with low correlation with the dependent variable and large P>|t|\n",
    "## in Model 1, indicating they are not a significant predictor of the dependent variable\n",
    "model2 = sm.OLS.from_formula('three_pct_season ~ mid_pct_oct_nov + three_non_cnr_pct_oct_nov + \\\n",
    "                    three_cnr_pct_oct_nov + ft_pct_oct_nov + lwr_paint_shots_oct_nov + \\\n",
    "                    three_non_cnr_shots_oct_nov + three_cnr_shots_oct_nov',\n",
    "                    data = df).fit()\n",
    "model2.summary()"
   ]
  },
  {
   "cell_type": "code",
   "execution_count": 107,
   "id": "4f35d0f6",
   "metadata": {},
   "outputs": [
    {
     "data": {
      "text/html": [
       "<table class=\"simpletable\">\n",
       "<caption>OLS Regression Results</caption>\n",
       "<tr>\n",
       "  <th>Dep. Variable:</th>    <td>three_pct_season</td> <th>  R-squared:         </th> <td>   0.468</td>\n",
       "</tr>\n",
       "<tr>\n",
       "  <th>Model:</th>                   <td>OLS</td>       <th>  Adj. R-squared:    </th> <td>   0.447</td>\n",
       "</tr>\n",
       "<tr>\n",
       "  <th>Method:</th>             <td>Least Squares</td>  <th>  F-statistic:       </th> <td>   22.66</td>\n",
       "</tr>\n",
       "<tr>\n",
       "  <th>Date:</th>             <td>Mon, 04 Dec 2023</td> <th>  Prob (F-statistic):</th> <td>1.90e-13</td>\n",
       "</tr>\n",
       "<tr>\n",
       "  <th>Time:</th>                 <td>13:11:29</td>     <th>  Log-Likelihood:    </th> <td>  230.01</td>\n",
       "</tr>\n",
       "<tr>\n",
       "  <th>No. Observations:</th>      <td>   108</td>      <th>  AIC:               </th> <td>  -450.0</td>\n",
       "</tr>\n",
       "<tr>\n",
       "  <th>Df Residuals:</th>          <td>   103</td>      <th>  BIC:               </th> <td>  -436.6</td>\n",
       "</tr>\n",
       "<tr>\n",
       "  <th>Df Model:</th>              <td>     4</td>      <th>                     </th>     <td> </td>   \n",
       "</tr>\n",
       "<tr>\n",
       "  <th>Covariance Type:</th>      <td>nonrobust</td>    <th>                     </th>     <td> </td>   \n",
       "</tr>\n",
       "</table>\n",
       "<table class=\"simpletable\">\n",
       "<tr>\n",
       "              <td></td>                 <th>coef</th>     <th>std err</th>      <th>t</th>      <th>P>|t|</th>  <th>[0.025</th>    <th>0.975]</th>  \n",
       "</tr>\n",
       "<tr>\n",
       "  <th>Intercept</th>                 <td>    0.0768</td> <td>    0.033</td> <td>    2.304</td> <td> 0.023</td> <td>    0.011</td> <td>    0.143</td>\n",
       "</tr>\n",
       "<tr>\n",
       "  <th>mid_pct_oct_nov</th>           <td>    0.0422</td> <td>    0.024</td> <td>    1.728</td> <td> 0.087</td> <td>   -0.006</td> <td>    0.091</td>\n",
       "</tr>\n",
       "<tr>\n",
       "  <th>three_non_cnr_pct_oct_nov</th> <td>    0.1457</td> <td>    0.033</td> <td>    4.423</td> <td> 0.000</td> <td>    0.080</td> <td>    0.211</td>\n",
       "</tr>\n",
       "<tr>\n",
       "  <th>three_cnr_pct_oct_nov</th>     <td>    0.2912</td> <td>    0.042</td> <td>    6.973</td> <td> 0.000</td> <td>    0.208</td> <td>    0.374</td>\n",
       "</tr>\n",
       "<tr>\n",
       "  <th>ft_pct_oct_nov</th>            <td>    0.1377</td> <td>    0.034</td> <td>    4.002</td> <td> 0.000</td> <td>    0.069</td> <td>    0.206</td>\n",
       "</tr>\n",
       "</table>\n",
       "<table class=\"simpletable\">\n",
       "<tr>\n",
       "  <th>Omnibus:</th>       <td>10.697</td> <th>  Durbin-Watson:     </th> <td>   0.894</td>\n",
       "</tr>\n",
       "<tr>\n",
       "  <th>Prob(Omnibus):</th> <td> 0.005</td> <th>  Jarque-Bera (JB):  </th> <td>  10.847</td>\n",
       "</tr>\n",
       "<tr>\n",
       "  <th>Skew:</th>          <td>-0.703</td> <th>  Prob(JB):          </th> <td> 0.00441</td>\n",
       "</tr>\n",
       "<tr>\n",
       "  <th>Kurtosis:</th>      <td> 3.657</td> <th>  Cond. No.          </th> <td>    24.6</td>\n",
       "</tr>\n",
       "</table><br/><br/>Notes:<br/>[1] Standard Errors assume that the covariance matrix of the errors is correctly specified."
      ],
      "text/plain": [
       "<class 'statsmodels.iolib.summary.Summary'>\n",
       "\"\"\"\n",
       "                            OLS Regression Results                            \n",
       "==============================================================================\n",
       "Dep. Variable:       three_pct_season   R-squared:                       0.468\n",
       "Model:                            OLS   Adj. R-squared:                  0.447\n",
       "Method:                 Least Squares   F-statistic:                     22.66\n",
       "Date:                Mon, 04 Dec 2023   Prob (F-statistic):           1.90e-13\n",
       "Time:                        13:11:29   Log-Likelihood:                 230.01\n",
       "No. Observations:                 108   AIC:                            -450.0\n",
       "Df Residuals:                     103   BIC:                            -436.6\n",
       "Df Model:                           4                                         \n",
       "Covariance Type:            nonrobust                                         \n",
       "=============================================================================================\n",
       "                                coef    std err          t      P>|t|      [0.025      0.975]\n",
       "---------------------------------------------------------------------------------------------\n",
       "Intercept                     0.0768      0.033      2.304      0.023       0.011       0.143\n",
       "mid_pct_oct_nov               0.0422      0.024      1.728      0.087      -0.006       0.091\n",
       "three_non_cnr_pct_oct_nov     0.1457      0.033      4.423      0.000       0.080       0.211\n",
       "three_cnr_pct_oct_nov         0.2912      0.042      6.973      0.000       0.208       0.374\n",
       "ft_pct_oct_nov                0.1377      0.034      4.002      0.000       0.069       0.206\n",
       "==============================================================================\n",
       "Omnibus:                       10.697   Durbin-Watson:                   0.894\n",
       "Prob(Omnibus):                  0.005   Jarque-Bera (JB):               10.847\n",
       "Skew:                          -0.703   Prob(JB):                      0.00441\n",
       "Kurtosis:                       3.657   Cond. No.                         24.6\n",
       "==============================================================================\n",
       "\n",
       "Notes:\n",
       "[1] Standard Errors assume that the covariance matrix of the errors is correctly specified.\n",
       "\"\"\""
      ]
     },
     "execution_count": 107,
     "metadata": {},
     "output_type": "execute_result"
    }
   ],
   "source": [
    "## Model 3: Continue removing inputs, only the 4 most significant variables from Model 2\n",
    "model3 = sm.OLS.from_formula('three_pct_season ~ mid_pct_oct_nov + three_non_cnr_pct_oct_nov + \\\n",
    "                    three_cnr_pct_oct_nov + ft_pct_oct_nov',\n",
    "                    data = df).fit()\n",
    "model3.summary()"
   ]
  },
  {
   "cell_type": "code",
   "execution_count": 108,
   "id": "cc890e83",
   "metadata": {},
   "outputs": [
    {
     "data": {
      "text/html": [
       "<table class=\"simpletable\">\n",
       "<caption>OLS Regression Results</caption>\n",
       "<tr>\n",
       "  <th>Dep. Variable:</th>    <td>three_pct_season</td> <th>  R-squared:         </th> <td>   0.453</td>\n",
       "</tr>\n",
       "<tr>\n",
       "  <th>Model:</th>                   <td>OLS</td>       <th>  Adj. R-squared:    </th> <td>   0.437</td>\n",
       "</tr>\n",
       "<tr>\n",
       "  <th>Method:</th>             <td>Least Squares</td>  <th>  F-statistic:       </th> <td>   28.68</td>\n",
       "</tr>\n",
       "<tr>\n",
       "  <th>Date:</th>             <td>Mon, 04 Dec 2023</td> <th>  Prob (F-statistic):</th> <td>1.36e-13</td>\n",
       "</tr>\n",
       "<tr>\n",
       "  <th>Time:</th>                 <td>13:11:30</td>     <th>  Log-Likelihood:    </th> <td>  228.47</td>\n",
       "</tr>\n",
       "<tr>\n",
       "  <th>No. Observations:</th>      <td>   108</td>      <th>  AIC:               </th> <td>  -448.9</td>\n",
       "</tr>\n",
       "<tr>\n",
       "  <th>Df Residuals:</th>          <td>   104</td>      <th>  BIC:               </th> <td>  -438.2</td>\n",
       "</tr>\n",
       "<tr>\n",
       "  <th>Df Model:</th>              <td>     3</td>      <th>                     </th>     <td> </td>   \n",
       "</tr>\n",
       "<tr>\n",
       "  <th>Covariance Type:</th>      <td>nonrobust</td>    <th>                     </th>     <td> </td>   \n",
       "</tr>\n",
       "</table>\n",
       "<table class=\"simpletable\">\n",
       "<tr>\n",
       "              <td></td>                 <th>coef</th>     <th>std err</th>      <th>t</th>      <th>P>|t|</th>  <th>[0.025</th>    <th>0.975]</th>  \n",
       "</tr>\n",
       "<tr>\n",
       "  <th>Intercept</th>                 <td>    0.0883</td> <td>    0.033</td> <td>    2.676</td> <td> 0.009</td> <td>    0.023</td> <td>    0.154</td>\n",
       "</tr>\n",
       "<tr>\n",
       "  <th>three_non_cnr_pct_oct_nov</th> <td>    0.1342</td> <td>    0.033</td> <td>    4.120</td> <td> 0.000</td> <td>    0.070</td> <td>    0.199</td>\n",
       "</tr>\n",
       "<tr>\n",
       "  <th>three_cnr_pct_oct_nov</th>     <td>    0.2979</td> <td>    0.042</td> <td>    7.095</td> <td> 0.000</td> <td>    0.215</td> <td>    0.381</td>\n",
       "</tr>\n",
       "<tr>\n",
       "  <th>ft_pct_oct_nov</th>            <td>    0.1472</td> <td>    0.034</td> <td>    4.292</td> <td> 0.000</td> <td>    0.079</td> <td>    0.215</td>\n",
       "</tr>\n",
       "</table>\n",
       "<table class=\"simpletable\">\n",
       "<tr>\n",
       "  <th>Omnibus:</th>       <td>13.662</td> <th>  Durbin-Watson:     </th> <td>   0.870</td>\n",
       "</tr>\n",
       "<tr>\n",
       "  <th>Prob(Omnibus):</th> <td> 0.001</td> <th>  Jarque-Bera (JB):  </th> <td>  15.164</td>\n",
       "</tr>\n",
       "<tr>\n",
       "  <th>Skew:</th>          <td>-0.772</td> <th>  Prob(JB):          </th> <td>0.000510</td>\n",
       "</tr>\n",
       "<tr>\n",
       "  <th>Kurtosis:</th>      <td> 3.992</td> <th>  Cond. No.          </th> <td>    23.6</td>\n",
       "</tr>\n",
       "</table><br/><br/>Notes:<br/>[1] Standard Errors assume that the covariance matrix of the errors is correctly specified."
      ],
      "text/plain": [
       "<class 'statsmodels.iolib.summary.Summary'>\n",
       "\"\"\"\n",
       "                            OLS Regression Results                            \n",
       "==============================================================================\n",
       "Dep. Variable:       three_pct_season   R-squared:                       0.453\n",
       "Model:                            OLS   Adj. R-squared:                  0.437\n",
       "Method:                 Least Squares   F-statistic:                     28.68\n",
       "Date:                Mon, 04 Dec 2023   Prob (F-statistic):           1.36e-13\n",
       "Time:                        13:11:30   Log-Likelihood:                 228.47\n",
       "No. Observations:                 108   AIC:                            -448.9\n",
       "Df Residuals:                     104   BIC:                            -438.2\n",
       "Df Model:                           3                                         \n",
       "Covariance Type:            nonrobust                                         \n",
       "=============================================================================================\n",
       "                                coef    std err          t      P>|t|      [0.025      0.975]\n",
       "---------------------------------------------------------------------------------------------\n",
       "Intercept                     0.0883      0.033      2.676      0.009       0.023       0.154\n",
       "three_non_cnr_pct_oct_nov     0.1342      0.033      4.120      0.000       0.070       0.199\n",
       "three_cnr_pct_oct_nov         0.2979      0.042      7.095      0.000       0.215       0.381\n",
       "ft_pct_oct_nov                0.1472      0.034      4.292      0.000       0.079       0.215\n",
       "==============================================================================\n",
       "Omnibus:                       13.662   Durbin-Watson:                   0.870\n",
       "Prob(Omnibus):                  0.001   Jarque-Bera (JB):               15.164\n",
       "Skew:                          -0.772   Prob(JB):                     0.000510\n",
       "Kurtosis:                       3.992   Cond. No.                         23.6\n",
       "==============================================================================\n",
       "\n",
       "Notes:\n",
       "[1] Standard Errors assume that the covariance matrix of the errors is correctly specified.\n",
       "\"\"\""
      ]
     },
     "execution_count": 108,
     "metadata": {},
     "output_type": "execute_result"
    }
   ],
   "source": [
    "## Model 4: Only those variables with P>|t| less than 0.05, the most significant variables\n",
    "model4 = sm.OLS.from_formula('three_pct_season ~ three_non_cnr_pct_oct_nov + \\\n",
    "                    three_cnr_pct_oct_nov + ft_pct_oct_nov',\n",
    "                    data = df).fit()\n",
    "model4.summary()"
   ]
  },
  {
   "cell_type": "code",
   "execution_count": 109,
   "id": "9bb351ac",
   "metadata": {},
   "outputs": [
    {
     "data": {
      "text/html": [
       "<table class=\"simpletable\">\n",
       "<caption>OLS Regression Results</caption>\n",
       "<tr>\n",
       "  <th>Dep. Variable:</th>    <td>three_pct_season</td> <th>  R-squared:         </th> <td>   0.363</td>\n",
       "</tr>\n",
       "<tr>\n",
       "  <th>Model:</th>                   <td>OLS</td>       <th>  Adj. R-squared:    </th> <td>   0.351</td>\n",
       "</tr>\n",
       "<tr>\n",
       "  <th>Method:</th>             <td>Least Squares</td>  <th>  F-statistic:       </th> <td>   29.96</td>\n",
       "</tr>\n",
       "<tr>\n",
       "  <th>Date:</th>             <td>Mon, 04 Dec 2023</td> <th>  Prob (F-statistic):</th> <td>5.06e-11</td>\n",
       "</tr>\n",
       "<tr>\n",
       "  <th>Time:</th>                 <td>13:11:32</td>     <th>  Log-Likelihood:    </th> <td>  220.30</td>\n",
       "</tr>\n",
       "<tr>\n",
       "  <th>No. Observations:</th>      <td>   108</td>      <th>  AIC:               </th> <td>  -434.6</td>\n",
       "</tr>\n",
       "<tr>\n",
       "  <th>Df Residuals:</th>          <td>   105</td>      <th>  BIC:               </th> <td>  -426.6</td>\n",
       "</tr>\n",
       "<tr>\n",
       "  <th>Df Model:</th>              <td>     2</td>      <th>                     </th>     <td> </td>   \n",
       "</tr>\n",
       "<tr>\n",
       "  <th>Covariance Type:</th>      <td>nonrobust</td>    <th>                     </th>     <td> </td>   \n",
       "</tr>\n",
       "</table>\n",
       "<table class=\"simpletable\">\n",
       "<tr>\n",
       "            <td></td>               <th>coef</th>     <th>std err</th>      <th>t</th>      <th>P>|t|</th>  <th>[0.025</th>    <th>0.975]</th>  \n",
       "</tr>\n",
       "<tr>\n",
       "  <th>Intercept</th>             <td>    0.1376</td> <td>    0.033</td> <td>    4.171</td> <td> 0.000</td> <td>    0.072</td> <td>    0.203</td>\n",
       "</tr>\n",
       "<tr>\n",
       "  <th>three_cnr_pct_oct_nov</th> <td>    0.2842</td> <td>    0.045</td> <td>    6.325</td> <td> 0.000</td> <td>    0.195</td> <td>    0.373</td>\n",
       "</tr>\n",
       "<tr>\n",
       "  <th>ft_pct_oct_nov</th>        <td>    0.1531</td> <td>    0.037</td> <td>    4.162</td> <td> 0.000</td> <td>    0.080</td> <td>    0.226</td>\n",
       "</tr>\n",
       "</table>\n",
       "<table class=\"simpletable\">\n",
       "<tr>\n",
       "  <th>Omnibus:</th>       <td> 5.433</td> <th>  Durbin-Watson:     </th> <td>   0.758</td>\n",
       "</tr>\n",
       "<tr>\n",
       "  <th>Prob(Omnibus):</th> <td> 0.066</td> <th>  Jarque-Bera (JB):  </th> <td>   4.813</td>\n",
       "</tr>\n",
       "<tr>\n",
       "  <th>Skew:</th>          <td>-0.470</td> <th>  Prob(JB):          </th> <td>  0.0902</td>\n",
       "</tr>\n",
       "<tr>\n",
       "  <th>Kurtosis:</th>      <td> 3.431</td> <th>  Cond. No.          </th> <td>    22.1</td>\n",
       "</tr>\n",
       "</table><br/><br/>Notes:<br/>[1] Standard Errors assume that the covariance matrix of the errors is correctly specified."
      ],
      "text/plain": [
       "<class 'statsmodels.iolib.summary.Summary'>\n",
       "\"\"\"\n",
       "                            OLS Regression Results                            \n",
       "==============================================================================\n",
       "Dep. Variable:       three_pct_season   R-squared:                       0.363\n",
       "Model:                            OLS   Adj. R-squared:                  0.351\n",
       "Method:                 Least Squares   F-statistic:                     29.96\n",
       "Date:                Mon, 04 Dec 2023   Prob (F-statistic):           5.06e-11\n",
       "Time:                        13:11:32   Log-Likelihood:                 220.30\n",
       "No. Observations:                 108   AIC:                            -434.6\n",
       "Df Residuals:                     105   BIC:                            -426.6\n",
       "Df Model:                           2                                         \n",
       "Covariance Type:            nonrobust                                         \n",
       "=========================================================================================\n",
       "                            coef    std err          t      P>|t|      [0.025      0.975]\n",
       "-----------------------------------------------------------------------------------------\n",
       "Intercept                 0.1376      0.033      4.171      0.000       0.072       0.203\n",
       "three_cnr_pct_oct_nov     0.2842      0.045      6.325      0.000       0.195       0.373\n",
       "ft_pct_oct_nov            0.1531      0.037      4.162      0.000       0.080       0.226\n",
       "==============================================================================\n",
       "Omnibus:                        5.433   Durbin-Watson:                   0.758\n",
       "Prob(Omnibus):                  0.066   Jarque-Bera (JB):                4.813\n",
       "Skew:                          -0.470   Prob(JB):                       0.0902\n",
       "Kurtosis:                       3.431   Cond. No.                         22.1\n",
       "==============================================================================\n",
       "\n",
       "Notes:\n",
       "[1] Standard Errors assume that the covariance matrix of the errors is correctly specified.\n",
       "\"\"\""
      ]
     },
     "execution_count": 109,
     "metadata": {},
     "output_type": "execute_result"
    }
   ],
   "source": [
    "## Model 5: Since corner/non-corner three % are correlated, try with only corner percentage\n",
    "model5 = sm.OLS.from_formula('three_pct_season ~ three_cnr_pct_oct_nov + ft_pct_oct_nov',\n",
    "                    data = df).fit()\n",
    "model5.summary()"
   ]
  },
  {
   "cell_type": "markdown",
   "id": "bede8fec",
   "metadata": {},
   "source": [
    "Now, to summarize my takeaways from these 5 models. Across the models, the largest slope parameter was consistently for three_cnr_pct_oct_nov, which was always about twice as large as the parameters corresponding to three_non_cnr_pct_oct_nov and ft_pct_oct_nov, which were the two next largest. It makes sense that these three measures of shooting ability are the most correlated/significant predictors. It is interesting that shots from the corner have a larger coefficient, but it should be noted that the mean number of corner threes attempted in the October/November data is 57.4, while the mean non-corner three attempts is 39.4. So it makes sense that the coefficienct would be larger for the type of three that makes up more of the total percentage. The fact that is is about twice as large (larger than just the average number of shots difference) could indicate that these corner threes are somehow a better measure of true shooting ability.\n",
    "(** See Conclusion for more on this topic.)\n",
    "\n",
    "As is always true for nested models, the R-squared is best for the largest models. The adjusted R-squared takes this into account, but is still larger for the larger models. I will devote some time to comparing the measures of the strength of these models."
   ]
  },
  {
   "cell_type": "markdown",
   "id": "448bfc74",
   "metadata": {},
   "source": [
    "Model 4 looks significantly better than Model 5, indicating that there is benefit to including information on both corner and non-corner threes in the model.\n",
    "\n",
    "One way to decide whether to include more variables is to run F-tests comparing models. In these tests, a smaller model is considered the null hypothesis and a model that adds variables is the alternate hypothesis. Following these tests, variables are only added to the model if the F-test indicates that the larger model produces improvements that are statistically significant.\n",
    "\n",
    "From the tests below, using a p-value of 0.05, we can see (from the value of Pr(>F)) that the variable added to Model 4 is significant compared to the smaller Model 5. However, none of the models 1-3 produce significant differences compared to Model 4. We should not reject the null hypothesis therefore, and we should keep Model 4 as is, with no additional variables."
   ]
  },
  {
   "cell_type": "code",
   "execution_count": 110,
   "id": "8b410565",
   "metadata": {},
   "outputs": [
    {
     "name": "stdout",
     "output_type": "stream",
     "text": [
      "Compare Model 4 to Model 5: \n",
      "    df_resid   ssr  df_diff  ss_diff      F  Pr(>F)\n",
      "0     105.0  0.11      0.0      NaN    NaN     NaN\n",
      "1     104.0  0.09      1.0     0.02  16.98     0.0\n",
      "Compare Model 3 to Model 4: \n",
      "    df_resid   ssr  df_diff  ss_diff     F  Pr(>F)\n",
      "0     104.0  0.09      0.0      NaN   NaN     NaN\n",
      "1     103.0  0.09      1.0      0.0  2.99    0.09\n",
      "Compare Model 3 to Model 4: \n",
      "    df_resid   ssr  df_diff  ss_diff     F  Pr(>F)\n",
      "0     104.0  0.09      0.0      NaN   NaN     NaN\n",
      "1     100.0  0.09      4.0     0.01  2.03     0.1\n",
      "Compare Model 3 to Model 4: \n",
      "    df_resid   ssr  df_diff  ss_diff    F  Pr(>F)\n",
      "0     104.0  0.09      0.0      NaN  NaN     NaN\n",
      "1      95.0  0.08      9.0     0.01  1.6    0.13\n"
     ]
    }
   ],
   "source": [
    "from statsmodels.stats.anova import anova_lm\n",
    "anova_results54 = anova_lm(model5, model4)\n",
    "print('Compare Model 4 to Model 5: \\n', anova_results54.round(2))\n",
    "anova_results43 = anova_lm(model4, model3)\n",
    "print('Compare Model 3 to Model 4: \\n', anova_results43.round(2))\n",
    "anova_results42 = anova_lm(model4, model2)\n",
    "print('Compare Model 3 to Model 4: \\n', anova_results42.round(2))\n",
    "anova_results41 = anova_lm(model4, model1)\n",
    "print('Compare Model 3 to Model 4: \\n', anova_results41.round(2))"
   ]
  },
  {
   "cell_type": "markdown",
   "id": "486cf229",
   "metadata": {},
   "source": [
    "Another measure of performanace are the log-likelihood (https://en.wikipedia.org/wiki/Likelihood_function#Log-likelihood), AIC (https://en.wikipedia.org/wiki/Akaike_information_criterion) and BIC (https://en.wikipedia.org/wiki/Bayesian_information_criterion).\n",
    "\n",
    "The better models have larger log-likeilhoods and smaller AIC/BIC. The benefit of using AIC and BIC is that these scores take into account the log-likelihood as welll as the number of parameters and so protect against over-fitting. The parameter penalty is larger for BIC, so BIC can be used to choose the simplest model that gives the best results.\n",
    "\n",
    "In general, my approach is to tend toward the BIC-approved model. It's often good to keep things as simple as possible to improve interpretability.\n",
    "\n",
    "The AIC values of these models are not too dissimilar, but there is a clear preference in BIC for the smaller models, with Model 4 having the largest BIC."
   ]
  },
  {
   "cell_type": "code",
   "execution_count": 93,
   "id": "7ca5aa2b",
   "metadata": {},
   "outputs": [
    {
     "name": "stdout",
     "output_type": "stream",
     "text": [
      "236.07786460354458 232.67849940518113 230.01097727318734 228.46790967769545\n",
      "-446.15572920708917 -449.35699881036226 -450.0219545463747 -448.9358193553909\n",
      "-411.2880232544743 -427.8999489933685 -436.6112984107536 -438.207294446894\n"
     ]
    }
   ],
   "source": [
    "print(model1.llf, model2.llf, model3.llf, model4.llf)\n",
    "print(model1.aic, model2.aic, model3.aic, model4.aic)\n",
    "print(model1.bic, model2.bic, model3.bic, model4.bic)"
   ]
  },
  {
   "cell_type": "markdown",
   "id": "4ee30462",
   "metadata": {},
   "source": [
    "These tests used the entire dataset for predictions. This means that we have no way of testing out-of-sample predictions. To remedy this, I will split the data 70%/30% into training/testing data. The larger training sample will be used to fit the models, while the testing dataset can be used to test the prediction with a sample that was not itself used to fit the model."
   ]
  },
  {
   "cell_type": "code",
   "execution_count": 150,
   "id": "9c94456b",
   "metadata": {},
   "outputs": [],
   "source": [
    "indices = range(len(df))\n",
    "s = int(0.7*len(indices))\n",
    "train_ind = np.random.choice(indices, size = s, replace = False)\n",
    "test_ind = list(set(indices) - set(train_ind))\n",
    "df_train = df.iloc[train_ind]\n",
    "df_test = df.iloc[test_ind]"
   ]
  },
  {
   "cell_type": "code",
   "execution_count": 151,
   "id": "246ca492",
   "metadata": {},
   "outputs": [],
   "source": [
    "model1 = sm.OLS.from_formula('three_pct_season ~ lwr_paint_pct_oct_nov + upr_paint_pct_oct_nov + \\\n",
    "                    mid_pct_oct_nov + three_non_cnr_pct_oct_nov + three_cnr_pct_oct_nov + \\\n",
    "                    ft_pct_oct_nov + lwr_paint_shots_oct_nov + upr_paint_shots_oct_nov + mid_shots_oct_nov + \\\n",
    "                    three_non_cnr_shots_oct_nov + three_cnr_shots_oct_nov + ft_shots_oct_nov',\n",
    "                    data = df_train).fit()\n",
    "model2 = sm.OLS.from_formula('three_pct_season ~ mid_pct_oct_nov + three_non_cnr_pct_oct_nov + \\\n",
    "                    three_cnr_pct_oct_nov + ft_pct_oct_nov + lwr_paint_shots_oct_nov + \\\n",
    "                    three_non_cnr_shots_oct_nov + three_cnr_shots_oct_nov',\n",
    "                    data = df_train).fit()\n",
    "model3 = sm.OLS.from_formula('three_pct_season ~ mid_pct_oct_nov + three_non_cnr_pct_oct_nov + \\\n",
    "                    three_cnr_pct_oct_nov + ft_pct_oct_nov',\n",
    "                    data = df_train).fit()\n",
    "model4 = sm.OLS.from_formula('three_pct_season ~  three_non_cnr_pct_oct_nov + \\\n",
    "                    three_cnr_pct_oct_nov + ft_pct_oct_nov',\n",
    "                    data = df_train).fit()"
   ]
  },
  {
   "cell_type": "code",
   "execution_count": 152,
   "id": "5cbb1ae8",
   "metadata": {},
   "outputs": [],
   "source": [
    "fitted1 = model1.predict(df_test)\n",
    "fitted2 = model2.predict(df_test)\n",
    "fitted3 = model3.predict(df_test)\n",
    "fitted4 = model4.predict(df_test)"
   ]
  },
  {
   "cell_type": "markdown",
   "id": "eb0f57db",
   "metadata": {},
   "source": [
    "One way of measuring the quality of the models is to calculate the (predictive) root mean squared error of the predicted values compared to the true values. This gives an average deviation between the predictions for the test sample and the true values."
   ]
  },
  {
   "cell_type": "code",
   "execution_count": 153,
   "id": "3a8120d5",
   "metadata": {},
   "outputs": [],
   "source": [
    "true_pct = df_test.three_pct_season\n",
    "prmse1 = np.sqrt(np.mean(np.square(true_pct - fitted1)))\n",
    "prmse2 = np.sqrt(np.mean(np.square(true_pct - fitted2)))\n",
    "prmse3 = np.sqrt(np.mean(np.square(true_pct - fitted3)))\n",
    "prmse4 = np.sqrt(np.mean(np.square(true_pct - fitted4)))"
   ]
  },
  {
   "cell_type": "code",
   "execution_count": 154,
   "id": "a7337b31",
   "metadata": {},
   "outputs": [
    {
     "name": "stdout",
     "output_type": "stream",
     "text": [
      "0.03730450743050017 0.03285327149032649 0.02912865632581131 0.029494183244645127\n"
     ]
    }
   ],
   "source": [
    "print(prmse1,prmse2,prmse3,prmse4)"
   ]
  },
  {
   "cell_type": "markdown",
   "id": "e64e1483",
   "metadata": {},
   "source": [
    "The above values showed that (for the time I originally ran this test), Model 3 had the smallest PRMSE. The exact value of the PRMSE for each model depends in part on the exact splitting of testing/training datasets. By running the previous steps a few times I saw that I got different answers for which model had the lowest PRMSE. To get a more robust idea of these results, I will repeat the splitting many times to see how often each model is indeed the best."
   ]
  },
  {
   "cell_type": "code",
   "execution_count": 112,
   "id": "0ff065a3",
   "metadata": {},
   "outputs": [],
   "source": [
    "import random\n",
    "from datetime import datetime"
   ]
  },
  {
   "cell_type": "code",
   "execution_count": 128,
   "id": "eb6a97a7",
   "metadata": {},
   "outputs": [
    {
     "name": "stdout",
     "output_type": "stream",
     "text": [
      "[0.151, 0.349, 0.273, 0.227]\n",
      "[0.031792390015366365, 0.03057735909022431, 0.030275925808765283, 0.030331217499492174]\n"
     ]
    }
   ],
   "source": [
    "nTests = 1000\n",
    "bestModel = [0, 0, 0, 0]\n",
    "avgPRMSE = [[], [], [], []]\n",
    "for _ in range(nTests):\n",
    "    random.seed(datetime.now().timestamp())\n",
    "    indices = range(len(df))\n",
    "    s = int(0.7*len(indices))\n",
    "    train_ind = np.random.choice(indices, size = s, replace = False)\n",
    "    test_ind = list(set(indices) - set(train_ind))\n",
    "    df_train = df.iloc[train_ind]\n",
    "    df_test = df.iloc[test_ind]\n",
    "    model1 = sm.OLS.from_formula('three_pct_season ~ lwr_paint_pct_oct_nov + upr_paint_pct_oct_nov + \\\n",
    "                    mid_pct_oct_nov + three_non_cnr_pct_oct_nov + three_cnr_pct_oct_nov + \\\n",
    "                    ft_pct_oct_nov + lwr_paint_shots_oct_nov + upr_paint_shots_oct_nov + mid_shots_oct_nov + \\\n",
    "                    three_non_cnr_shots_oct_nov + three_cnr_shots_oct_nov + ft_shots_oct_nov',\n",
    "                    data = df_train).fit()\n",
    "    model2 = sm.OLS.from_formula('three_pct_season ~ mid_pct_oct_nov + three_non_cnr_pct_oct_nov + \\\n",
    "                    three_cnr_pct_oct_nov + ft_pct_oct_nov + lwr_paint_shots_oct_nov + \\\n",
    "                    three_non_cnr_shots_oct_nov + three_cnr_shots_oct_nov',\n",
    "                    data = df_train).fit()\n",
    "    model3 = sm.OLS.from_formula('three_pct_season ~ mid_pct_oct_nov + three_non_cnr_pct_oct_nov + \\\n",
    "                    three_cnr_pct_oct_nov + ft_pct_oct_nov',\n",
    "                    data = df_train).fit()\n",
    "    model4 = sm.OLS.from_formula('three_pct_season ~  three_non_cnr_pct_oct_nov + \\\n",
    "                    three_cnr_pct_oct_nov + ft_pct_oct_nov',\n",
    "                    data = df_train).fit()\n",
    "    \n",
    "    fitted1 = model1.predict(df_test)\n",
    "    fitted2 = model2.predict(df_test)\n",
    "    fitted3 = model3.predict(df_test)\n",
    "    fitted4 = model4.predict(df_test)\n",
    "    \n",
    "    true_pct = df_test.three_pct_season\n",
    "    prmse1 = np.sqrt(np.mean(np.square(true_pct - fitted1)))\n",
    "    prmse2 = np.sqrt(np.mean(np.square(true_pct - fitted2)))\n",
    "    prmse3 = np.sqrt(np.mean(np.square(true_pct - fitted3)))\n",
    "    prmse4 = np.sqrt(np.mean(np.square(true_pct - fitted4)))\n",
    "    \n",
    "    tmpPRMSE = [prmse1, prmse2, prmse3, prmse4]\n",
    "    for i in range(4):\n",
    "        avgPRMSE[i].append(tmpPRMSE[i])\n",
    "    bestModel[np.argmin(tmpPRMSE)] += 1\n",
    "print([x/nTests for x in bestModel])\n",
    "print([np.mean(x) for x in avgPRMSE])"
   ]
  },
  {
   "cell_type": "markdown",
   "id": "d464b83e",
   "metadata": {},
   "source": [
    "From these 1000 tests, I see that actually Model 2 had the lowest PRMSE more often than the other models. Somewhat confusingly, however, Model 2 did not have the lowest average PRMSE. This indicates that Model 2 had more high values of PRMSE than the other models, and although about 1/3 of the time it had the best score, on average it performed slightly worse.\n",
    "\n",
    "The histogram distributions of PRMSE for each model are shown below. Models 3 and 4 seem to have slightly skewed left distributions, indicating they were slighly more likely to have small values of PRMSE than the other models, although they did not always have a smaller value."
   ]
  },
  {
   "cell_type": "code",
   "execution_count": 134,
   "id": "3d959d1e",
   "metadata": {},
   "outputs": [
    {
     "data": {
      "image/png": "[encoded data removed]",
      "text/plain": [
       "<Figure size 432x288 with 1 Axes>"
      ]
     },
     "metadata": {
      "needs_background": "light"
     },
     "output_type": "display_data"
    }
   ],
   "source": [
    "binvals = np.arange(0.02,0.05,0.0025)\n",
    "plt.hist(avgPRMSE[0], bins=binvals, histtype='step', label='Model 1')\n",
    "plt.hist(avgPRMSE[1], bins=binvals, histtype='step', label='Model 2')\n",
    "plt.hist(avgPRMSE[2], bins=binvals, histtype='step', label='Model 3')\n",
    "plt.hist(avgPRMSE[3], bins=binvals, histtype='step', label='Model 4')\n",
    "plt.legend()\n",
    "plt.show()"
   ]
  },
  {
   "cell_type": "code",
   "execution_count": 160,
   "id": "a7d26a03",
   "metadata": {},
   "outputs": [
    {
     "data": {
      "image/png": "[encoded data removed]",
      "text/plain": [
       "<Figure size 432x288 with 1 Axes>"
      ]
     },
     "metadata": {
      "needs_background": "light"
     },
     "output_type": "display_data"
    }
   ],
   "source": [
    "binvals = np.arange(-0.07,0.07,0.01)\n",
    "res1 = true_pct - fitted1\n",
    "res2 = true_pct - fitted2\n",
    "res3 = true_pct - fitted3\n",
    "res4 = true_pct - fitted4\n",
    "plt.hist(res1, bins=binvals, histtype='step', label='Model 1')\n",
    "plt.hist(res2, bins=binvals, histtype='step', label='Model 2')\n",
    "plt.hist(res3, bins=binvals, histtype='step', label='Model 3')\n",
    "plt.hist(res4, bins=binvals, histtype='step', label='Model 4')\n",
    "plt.legend()\n",
    "plt.show()"
   ]
  },
  {
   "cell_type": "markdown",
   "id": "391f6039",
   "metadata": {},
   "source": [
    "## Choosing a model\n",
    "\n",
    "Taking all the above information into account, my choice of a model is **Model 4**.\n",
    "\n",
    "The most important results that informed my decision were the fact that the F-tests and BIC preferred the simpler Model 4 over the other models. Although the PRMSE was not smallest for Model 4 on average, the differences between the models in this test were quite small. Taking all of this into account, my preference is to use the simplest model that still gives roughly the same result.\n",
    "\n",
    "Therefore,to predict end of season three point field goal percentage, my method of choice is to run a multiple linear regression using players' October/November values of non-corner three point field goal percentage, corner three point field goal percentage and free throw percentage."
   ]
  },
  {
   "cell_type": "markdown",
   "id": "b72aeba7",
   "metadata": {},
   "source": [
    "## Evaluating the model performance\n",
    "\n",
    "Now, I will continue to perform tests on the model to determine its quality."
   ]
  },
  {
   "cell_type": "code",
   "execution_count": 179,
   "id": "19b740d1",
   "metadata": {},
   "outputs": [
    {
     "name": "stdout",
     "output_type": "stream",
     "text": [
      "0.4527055302282097\n",
      "Intercept                    0.088279\n",
      "three_non_cnr_pct_oct_nov    0.134249\n",
      "three_cnr_pct_oct_nov        0.297868\n",
      "ft_pct_oct_nov               0.147211\n",
      "dtype: float64\n"
     ]
    }
   ],
   "source": [
    "model4 = sm.OLS.from_formula('three_pct_season ~ three_non_cnr_pct_oct_nov + \\\n",
    "                    three_cnr_pct_oct_nov + ft_pct_oct_nov',\n",
    "                    data = df).fit()\n",
    "fitted4 = model4.predict(df)\n",
    "print(model4.rsquared)\n",
    "print(model4.params)"
   ]
  },
  {
   "cell_type": "code",
   "execution_count": 164,
   "id": "65ed62b1",
   "metadata": {},
   "outputs": [
    {
     "data": {
      "image/png": "[encoded data removed]",
      "text/plain": [
       "<Figure size 432x288 with 1 Axes>"
      ]
     },
     "metadata": {
      "needs_background": "light"
     },
     "output_type": "display_data"
    }
   ],
   "source": [
    "plt.scatter(fitted4, df.three_pct_season,label='Prediction results')\n",
    "plt.xlim(0.25,0.45)\n",
    "plt.plot(np.arange(0.25,0.45,0.01), np.arange(0.25,0.45,0.01), label='y=x')\n",
    "plt.xlabel('Predicted 3 point FG%')\n",
    "plt.ylabel('Actual 3 point FG%')\n",
    "plt.legend()\n",
    "plt.show()"
   ]
  },
  {
   "cell_type": "code",
   "execution_count": 165,
   "id": "de364e7a",
   "metadata": {},
   "outputs": [
    {
     "data": {
      "image/png": "[encoded data removed]",
      "text/plain": [
       "<Figure size 432x288 with 1 Axes>"
      ]
     },
     "metadata": {
      "needs_background": "light"
     },
     "output_type": "display_data"
    }
   ],
   "source": [
    "residuals = df.three_pct_season - fitted4\n",
    "prmse4 = np.sqrt(np.mean(np.square(df.three_pct_season - fitted4)))\n",
    "plt.hist(residuals)\n",
    "plt.xlabel('Residual')\n",
    "plt.ylabel('Count')\n",
    "plt.show()"
   ]
  },
  {
   "cell_type": "code",
   "execution_count": 166,
   "id": "2067c906",
   "metadata": {},
   "outputs": [
    {
     "name": "stdout",
     "output_type": "stream",
     "text": [
      "0.029176778546980763\n"
     ]
    }
   ],
   "source": [
    "print(prmse4)"
   ]
  },
  {
   "cell_type": "markdown",
   "id": "4b6b4f15",
   "metadata": {},
   "source": [
    "The average root mean square difference between the predictions and actual end of season three point field goal percentage values is 2.9%. The histogram of residuals shows that they are slightly left-skewed. Ideally, these would follow an approximately normal distribution."
   ]
  },
  {
   "cell_type": "code",
   "execution_count": 171,
   "id": "2debfb58",
   "metadata": {},
   "outputs": [
    {
     "name": "stdout",
     "output_type": "stream",
     "text": [
      "0.04218190183767146\n"
     ]
    }
   ],
   "source": [
    "three_made_oct_nov = df.three_non_cnr_pct_oct_nov * df.three_non_cnr_shots_oct_nov + df.three_cnr_pct_oct_nov * df.three_cnr_shots_oct_nov\n",
    "three_att_oct_nov = df.three_non_cnr_shots_oct_nov + df.three_cnr_shots_oct_nov\n",
    "three_pct_oct_nov = three_made_oct_nov / three_att_oct_nov\n",
    "prmse_naive = np.sqrt(np.mean(np.square(df.three_pct_season - three_pct_oct_nov)))\n",
    "print(prmse_naive)"
   ]
  },
  {
   "cell_type": "code",
   "execution_count": 172,
   "id": "22e2a4a2",
   "metadata": {},
   "outputs": [
    {
     "data": {
      "image/png": "[encoded data removed]",
      "text/plain": [
       "<Figure size 432x288 with 1 Axes>"
      ]
     },
     "metadata": {
      "needs_background": "light"
     },
     "output_type": "display_data"
    }
   ],
   "source": [
    "plt.hist(df.three_pct_season - three_pct_oct_nov)\n",
    "plt.xlabel('Residual')\n",
    "plt.ylabel('Count')\n",
    "plt.show()"
   ]
  },
  {
   "cell_type": "markdown",
   "id": "72b19dd9",
   "metadata": {},
   "source": [
    "Comparing the results of my model to a naive approach, where we just assume that each player's three point field goal percentage in October/November will be the same as their end of season percentage, we see that the model improves the RMS error down from a 4.2% difference between October/November stats to a 2.9% difference between predicted and actual values. This improvement represents about a 30% improvement in the average prediction deviation."
   ]
  },
  {
   "cell_type": "markdown",
   "id": "ffa576bf",
   "metadata": {},
   "source": [
    "Another naive approach for a simple model is to just assign everyone a prediction equal to the average in the sample. This method doesn't take any individual performance into account and just treats everyone as an average player, which in this sample is a 36.1% three point field goal percentage."
   ]
  },
  {
   "cell_type": "code",
   "execution_count": 173,
   "id": "278b24cd",
   "metadata": {},
   "outputs": [
    {
     "name": "stdout",
     "output_type": "stream",
     "text": [
      "0.3612208764888254\n"
     ]
    }
   ],
   "source": [
    "avg_three_pct_oct_nov = np.mean(three_pct_oct_nov)\n",
    "print(avg_three_pct_oct_nov)"
   ]
  },
  {
   "cell_type": "code",
   "execution_count": 176,
   "id": "4e411733",
   "metadata": {},
   "outputs": [
    {
     "name": "stdout",
     "output_type": "stream",
     "text": [
      "0.03943910867202648\n"
     ]
    }
   ],
   "source": [
    "prmse_naive2 = np.sqrt(np.mean(np.square(df.three_pct_season - avg_three_pct_oct_nov)))\n",
    "print(prmse_naive2)"
   ]
  },
  {
   "cell_type": "code",
   "execution_count": 177,
   "id": "af9c7a04",
   "metadata": {},
   "outputs": [
    {
     "data": {
      "image/png": "[encoded data removed]",
      "text/plain": [
       "<Figure size 432x288 with 1 Axes>"
      ]
     },
     "metadata": {
      "needs_background": "light"
     },
     "output_type": "display_data"
    }
   ],
   "source": [
    "plt.hist(df.three_pct_season - avg_three_pct_oct_nov)\n",
    "plt.xlabel('Residual')\n",
    "plt.ylabel('Count')\n",
    "plt.show()"
   ]
  },
  {
   "cell_type": "markdown",
   "id": "ef8e8c65",
   "metadata": {},
   "source": [
    "Comparing this naive approach to my model, I still see improvement compared the naive approach. The approach treating everyone as an average three point shooter actually does better than assuming everyone will maintain their October/November stats. This indicates an overall regression to the mean across the sample - it is better to assume everyone will be an average player rather than use their current stats to forecast forward. However, my model beats both of these approaches. There is some reversion to the mean, however the model correctly also takes into account where each player's stats are in October/November without completely reverting them to the mean."
   ]
  },
  {
   "cell_type": "markdown",
   "id": "812e361c",
   "metadata": {},
   "source": [
    "To turn these comparisons into a single value, I will calculate a skill score (https://en.wikipedia.org/wiki/Forecast_skill) for my model compred to these 2 naive approaches. I want my skill score to be positive, indicating better performance than a naive approach and as close to 1 as possible."
   ]
  },
  {
   "cell_type": "code",
   "execution_count": 178,
   "id": "e04ea53e",
   "metadata": {},
   "outputs": [
    {
     "name": "stdout",
     "output_type": "stream",
     "text": [
      "0.5215656370382409 0.45270624117507974\n"
     ]
    }
   ],
   "source": [
    "mse_naive1 = np.mean(np.square(df.three_pct_season - three_pct_oct_nov))\n",
    "mse_naive2 = np.mean(np.square(df.three_pct_season - avg_three_pct_oct_nov))\n",
    "mse_model4 = np.mean(np.square(df.three_pct_season - fitted4))\n",
    "ss_1 = 1 - mse_model4 / mse_naive1\n",
    "ss_2 = 1 - mse_model4 / mse_naive2\n",
    "print(ss_1, ss_2)"
   ]
  },
  {
   "cell_type": "markdown",
   "id": "6313ed26",
   "metadata": {},
   "source": [
    "My model performs better than both naive approaches by a fair amount. Hence, my model provides actual information above and beyond these two naive approaches to modeling this problem."
   ]
  },
  {
   "cell_type": "markdown",
   "id": "339e1b6d",
   "metadata": {},
   "source": [
    "## Conclusion\n",
    "\n",
    "My prediction for end of season three point field goal percentage is given by:\n",
    "$$ \\text{three_pct_season} =  0.088279 + 0.134249 * \\text{three_non_cnr_pct_oct_nov} + 0.297868 * \\text{three_cnr_pct_oct_nov} + 0.147211 * \\text{ft_pct_oct_nov} $$"
   ]
  },
  {
   "cell_type": "markdown",
   "id": "59fbb8b6",
   "metadata": {},
   "source": [
    "This model was determined by performing several multiple linear regressions with different sets of independent variables. This model had the same overall performance as models with more input variables, but with only 3 independent variables it is fairly simple. As judged by the R-squared value, this model can account for 45% of the variation in players' three point field goal percentage. The average RMS error for this model is a 2.9% difference between predicted and actual three point field goal percentage. This model improved significantly over two naive approaches that assumed players' stats would persist from October/November to the end of the season or that each player would end with the average three point field goal percentage."
   ]
  },
  {
   "cell_type": "markdown",
   "id": "759be37f",
   "metadata": {},
   "source": [
    "### Future Studies/Improvement\n",
    "\n",
    "One approach I would have liked to try given more time would be to separately predict each players corner and non-corner three point field goal percentage as well as each players total number of attempted corner and non-corner three point field goals. This approach might be able to better separate out each player's performance in the two regions. As I forecast now, I don't take into account what fraction of threes is in each region, and it's possible using this information could improve the model.\n",
    "\n",
    "I had already used a significant portion of my 4 hours before I considered this approach, and I chose to continue with what ultimately became my end result approach rather than try this new method, but with more time in the future I would like to consider this method."
   ]
  },
  {
   "cell_type": "code",
   "execution_count": null,
   "id": "96e3d5dc",
   "metadata": {},
   "outputs": [],
   "source": []
  }
 ],
 "metadata": {
  "kernelspec": {
   "display_name": "Python 3 (ipykernel)",
   "language": "python",
   "name": "python3"
  },
  "language_info": {
   "codemirror_mode": {
    "name": "ipython",
    "version": 3
   },
   "file_extension": ".py",
   "mimetype": "text/x-python",
   "name": "python",
   "nbconvert_exporter": "python",
   "pygments_lexer": "ipython3",
   "version": "3.9.12"
  }
 },
 "nbformat": 4,
 "nbformat_minor": 5
}
